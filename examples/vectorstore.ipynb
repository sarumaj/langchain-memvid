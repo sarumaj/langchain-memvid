{
 "cells": [
  {
   "cell_type": "code",
   "execution_count": 1,
   "metadata": {},
   "outputs": [
    {
     "name": "stdout",
     "output_type": "stream",
     "text": [
      "\u001b[?1h\u001b=Requirement already satisfied: langchain-huggingface in /home/dawid/github/sarumaj/langchain_memvid/.venv/lib/python3.12/site-packages (0.3.0)\n",
      "Requirement already satisfied: sentence-transformers in /home/dawid/github/sarumaj/langchain_memvid/.venv/lib/python3.12/site-packages (4.1.0)\n",
      "Requirement already satisfied: ipywidgets in /home/dawid/github/sarumaj/langchain_memvid/.venv/lib/python3.12/site-packages (8.1.7)\n",
      "Requirement already satisfied: langchain-core<1.0.0,>=0.3.65 in /home/dawid/github/sarumaj/langchain_memvid/.venv/lib/python3.12/site-packages (from langchain-huggingface) (0.3.65)\n",
      "Requirement already satisfied: tokenizers>=0.19.1 in /home/dawid/github/sarumaj/langchain_memvid/.venv/lib/python3.12/site-packages (from langchain-huggingface) (0.21.1)\n",
      "Requirement already satisfied: huggingface-hub>=0.30.2 in /home/dawid/github/sarumaj/langchain_memvid/.venv/lib/python3.12/site-packages (from langchain-huggingface) (0.33.0)\n",
      "Requirement already satisfied: transformers<5.0.0,>=4.41.0 in /home/dawid/github/sarumaj/langchain_memvid/.venv/lib/python3.12/site-packages (from sentence-transformers) (4.52.4)\n",
      "Requirement already satisfied: tqdm in /home/dawid/github/sarumaj/langchain_memvid/.venv/lib/python3.12/site-packages (from sentence-transformers) (4.67.1)\n",
      "Requirement already satisfied: torch>=1.11.0 in /home/dawid/github/sarumaj/langchain_memvid/.venv/lib/python3.12/site-packages (from sentence-transformers) (2.7.1)\n",
      "Requirement already satisfied: scikit-learn in /home/dawid/github/sarumaj/langchain_memvid/.venv/lib/python3.12/site-packages (from sentence-transformers) (1.7.0)\n",
      "Requirement already satisfied: scipy in /home/dawid/github/sarumaj/langchain_memvid/.venv/lib/python3.12/site-packages (from sentence-transformers) (1.15.3)\n",
      "Requirement already satisfied: Pillow in /home/dawid/github/sarumaj/langchain_memvid/.venv/lib/python3.12/site-packages (from sentence-transformers) (11.2.1)\n",
      "Requirement already satisfied: typing_extensions>=4.5.0 in /home/dawid/github/sarumaj/langchain_memvid/.venv/lib/python3.12/site-packages (from sentence-transformers) (4.14.0)\n",
      "Requirement already satisfied: comm>=0.1.3 in /home/dawid/github/sarumaj/langchain_memvid/.venv/lib/python3.12/site-packages (from ipywidgets) (0.2.2)\n",
      "Requirement already satisfied: ipython>=6.1.0 in /home/dawid/github/sarumaj/langchain_memvid/.venv/lib/python3.12/site-packages (from ipywidgets) (9.3.0)\n",
      "Requirement already satisfied: traitlets>=4.3.1 in /home/dawid/github/sarumaj/langchain_memvid/.venv/lib/python3.12/site-packages (from ipywidgets) (5.14.3)\n",
      "Requirement already satisfied: widgetsnbextension~=4.0.14 in /home/dawid/github/sarumaj/langchain_memvid/.venv/lib/python3.12/site-packages (from ipywidgets) (4.0.14)\n",
      "Requirement already satisfied: jupyterlab_widgets~=3.0.15 in /home/dawid/github/sarumaj/langchain_memvid/.venv/lib/python3.12/site-packages (from ipywidgets) (3.0.15)\n",
      "Requirement already satisfied: filelock in /home/dawid/github/sarumaj/langchain_memvid/.venv/lib/python3.12/site-packages (from huggingface-hub>=0.30.2->langchain-huggingface) (3.18.0)\n",
      "Requirement already satisfied: fsspec>=2023.5.0 in /home/dawid/github/sarumaj/langchain_memvid/.venv/lib/python3.12/site-packages (from huggingface-hub>=0.30.2->langchain-huggingface) (2025.5.1)\n",
      "Requirement already satisfied: packaging>=20.9 in /home/dawid/github/sarumaj/langchain_memvid/.venv/lib/python3.12/site-packages (from huggingface-hub>=0.30.2->langchain-huggingface) (24.2)\n",
      "Requirement already satisfied: pyyaml>=5.1 in /home/dawid/github/sarumaj/langchain_memvid/.venv/lib/python3.12/site-packages (from huggingface-hub>=0.30.2->langchain-huggingface) (6.0.2)\n",
      "Requirement already satisfied: requests in /home/dawid/github/sarumaj/langchain_memvid/.venv/lib/python3.12/site-packages (from huggingface-hub>=0.30.2->langchain-huggingface) (2.32.4)\n",
      "Requirement already satisfied: hf-xet<2.0.0,>=1.1.2 in /home/dawid/github/sarumaj/langchain_memvid/.venv/lib/python3.12/site-packages (from huggingface-hub>=0.30.2->langchain-huggingface) (1.1.4)\n",
      "Requirement already satisfied: decorator in /home/dawid/github/sarumaj/langchain_memvid/.venv/lib/python3.12/site-packages (from ipython>=6.1.0->ipywidgets) (5.2.1)\n",
      "Requirement already satisfied: ipython-pygments-lexers in /home/dawid/github/sarumaj/langchain_memvid/.venv/lib/python3.12/site-packages (from ipython>=6.1.0->ipywidgets) (1.1.1)\n",
      "Requirement already satisfied: jedi>=0.16 in /home/dawid/github/sarumaj/langchain_memvid/.venv/lib/python3.12/site-packages (from ipython>=6.1.0->ipywidgets) (0.19.2)\n",
      "Requirement already satisfied: matplotlib-inline in /home/dawid/github/sarumaj/langchain_memvid/.venv/lib/python3.12/site-packages (from ipython>=6.1.0->ipywidgets) (0.1.7)\n",
      "Requirement already satisfied: pexpect>4.3 in /home/dawid/github/sarumaj/langchain_memvid/.venv/lib/python3.12/site-packages (from ipython>=6.1.0->ipywidgets) (4.9.0)\n",
      "Requirement already satisfied: prompt_toolkit<3.1.0,>=3.0.41 in /home/dawid/github/sarumaj/langchain_memvid/.venv/lib/python3.12/site-packages (from ipython>=6.1.0->ipywidgets) (3.0.51)\n",
      "Requirement already satisfied: pygments>=2.4.0 in /home/dawid/github/sarumaj/langchain_memvid/.venv/lib/python3.12/site-packages (from ipython>=6.1.0->ipywidgets) (2.19.1)\n",
      "Requirement already satisfied: stack_data in /home/dawid/github/sarumaj/langchain_memvid/.venv/lib/python3.12/site-packages (from ipython>=6.1.0->ipywidgets) (0.6.3)\n",
      "Requirement already satisfied: langsmith<0.4,>=0.3.45 in /home/dawid/github/sarumaj/langchain_memvid/.venv/lib/python3.12/site-packages (from langchain-core<1.0.0,>=0.3.65->langchain-huggingface) (0.3.45)\n",
      "Requirement already satisfied: tenacity!=8.4.0,<10.0.0,>=8.1.0 in /home/dawid/github/sarumaj/langchain_memvid/.venv/lib/python3.12/site-packages (from langchain-core<1.0.0,>=0.3.65->langchain-huggingface) (9.1.2)\n",
      "Requirement already satisfied: jsonpatch<2.0,>=1.33 in /home/dawid/github/sarumaj/langchain_memvid/.venv/lib/python3.12/site-packages (from langchain-core<1.0.0,>=0.3.65->langchain-huggingface) (1.33)\n",
      "Requirement already satisfied: pydantic>=2.7.4 in /home/dawid/github/sarumaj/langchain_memvid/.venv/lib/python3.12/site-packages (from langchain-core<1.0.0,>=0.3.65->langchain-huggingface) (2.11.7)\n",
      "Requirement already satisfied: setuptools in /home/dawid/github/sarumaj/langchain_memvid/.venv/lib/python3.12/site-packages (from torch>=1.11.0->sentence-transformers) (80.9.0)\n",
      "Requirement already satisfied: sympy>=1.13.3 in /home/dawid/github/sarumaj/langchain_memvid/.venv/lib/python3.12/site-packages (from torch>=1.11.0->sentence-transformers) (1.14.0)\n",
      "Requirement already satisfied: networkx in /home/dawid/github/sarumaj/langchain_memvid/.venv/lib/python3.12/site-packages (from torch>=1.11.0->sentence-transformers) (3.5)\n",
      "Requirement already satisfied: jinja2 in /home/dawid/github/sarumaj/langchain_memvid/.venv/lib/python3.12/site-packages (from torch>=1.11.0->sentence-transformers) (3.1.6)\n",
      "Requirement already satisfied: nvidia-cuda-nvrtc-cu12==12.6.77 in /home/dawid/github/sarumaj/langchain_memvid/.venv/lib/python3.12/site-packages (from torch>=1.11.0->sentence-transformers) (12.6.77)\n",
      "Requirement already satisfied: nvidia-cuda-runtime-cu12==12.6.77 in /home/dawid/github/sarumaj/langchain_memvid/.venv/lib/python3.12/site-packages (from torch>=1.11.0->sentence-transformers) (12.6.77)\n",
      "Requirement already satisfied: nvidia-cuda-cupti-cu12==12.6.80 in /home/dawid/github/sarumaj/langchain_memvid/.venv/lib/python3.12/site-packages (from torch>=1.11.0->sentence-transformers) (12.6.80)\n",
      "Requirement already satisfied: nvidia-cudnn-cu12==9.5.1.17 in /home/dawid/github/sarumaj/langchain_memvid/.venv/lib/python3.12/site-packages (from torch>=1.11.0->sentence-transformers) (9.5.1.17)\n",
      "Requirement already satisfied: nvidia-cublas-cu12==12.6.4.1 in /home/dawid/github/sarumaj/langchain_memvid/.venv/lib/python3.12/site-packages (from torch>=1.11.0->sentence-transformers) (12.6.4.1)\n",
      "Requirement already satisfied: nvidia-cufft-cu12==11.3.0.4 in /home/dawid/github/sarumaj/langchain_memvid/.venv/lib/python3.12/site-packages (from torch>=1.11.0->sentence-transformers) (11.3.0.4)\n",
      "Requirement already satisfied: nvidia-curand-cu12==10.3.7.77 in /home/dawid/github/sarumaj/langchain_memvid/.venv/lib/python3.12/site-packages (from torch>=1.11.0->sentence-transformers) (10.3.7.77)\n",
      "Requirement already satisfied: nvidia-cusolver-cu12==11.7.1.2 in /home/dawid/github/sarumaj/langchain_memvid/.venv/lib/python3.12/site-packages (from torch>=1.11.0->sentence-transformers) (11.7.1.2)\n",
      "Requirement already satisfied: nvidia-cusparse-cu12==12.5.4.2 in /home/dawid/github/sarumaj/langchain_memvid/.venv/lib/python3.12/site-packages (from torch>=1.11.0->sentence-transformers) (12.5.4.2)\n",
      "Requirement already satisfied: nvidia-cusparselt-cu12==0.6.3 in /home/dawid/github/sarumaj/langchain_memvid/.venv/lib/python3.12/site-packages (from torch>=1.11.0->sentence-transformers) (0.6.3)\n",
      "Requirement already satisfied: nvidia-nccl-cu12==2.26.2 in /home/dawid/github/sarumaj/langchain_memvid/.venv/lib/python3.12/site-packages (from torch>=1.11.0->sentence-transformers) (2.26.2)\n",
      "Requirement already satisfied: nvidia-nvtx-cu12==12.6.77 in /home/dawid/github/sarumaj/langchain_memvid/.venv/lib/python3.12/site-packages (from torch>=1.11.0->sentence-transformers) (12.6.77)\n",
      "Requirement already satisfied: nvidia-nvjitlink-cu12==12.6.85 in /home/dawid/github/sarumaj/langchain_memvid/.venv/lib/python3.12/site-packages (from torch>=1.11.0->sentence-transformers) (12.6.85)\n",
      "Requirement already satisfied: nvidia-cufile-cu12==1.11.1.6 in /home/dawid/github/sarumaj/langchain_memvid/.venv/lib/python3.12/site-packages (from torch>=1.11.0->sentence-transformers) (1.11.1.6)\n",
      "Requirement already satisfied: triton==3.3.1 in /home/dawid/github/sarumaj/langchain_memvid/.venv/lib/python3.12/site-packages (from torch>=1.11.0->sentence-transformers) (3.3.1)\n",
      "Requirement already satisfied: numpy>=1.17 in /home/dawid/github/sarumaj/langchain_memvid/.venv/lib/python3.12/site-packages (from transformers<5.0.0,>=4.41.0->sentence-transformers) (2.3.0)\n",
      "Requirement already satisfied: regex!=2019.12.17 in /home/dawid/github/sarumaj/langchain_memvid/.venv/lib/python3.12/site-packages (from transformers<5.0.0,>=4.41.0->sentence-transformers) (2024.11.6)\n",
      "Requirement already satisfied: safetensors>=0.4.3 in /home/dawid/github/sarumaj/langchain_memvid/.venv/lib/python3.12/site-packages (from transformers<5.0.0,>=4.41.0->sentence-transformers) (0.5.3)\n",
      "Requirement already satisfied: joblib>=1.2.0 in /home/dawid/github/sarumaj/langchain_memvid/.venv/lib/python3.12/site-packages (from scikit-learn->sentence-transformers) (1.5.1)\n",
      "Requirement already satisfied: threadpoolctl>=3.1.0 in /home/dawid/github/sarumaj/langchain_memvid/.venv/lib/python3.12/site-packages (from scikit-learn->sentence-transformers) (3.6.0)\n",
      "Requirement already satisfied: parso<0.9.0,>=0.8.4 in /home/dawid/github/sarumaj/langchain_memvid/.venv/lib/python3.12/site-packages (from jedi>=0.16->ipython>=6.1.0->ipywidgets) (0.8.4)\n",
      "Requirement already satisfied: jsonpointer>=1.9 in /home/dawid/github/sarumaj/langchain_memvid/.venv/lib/python3.12/site-packages (from jsonpatch<2.0,>=1.33->langchain-core<1.0.0,>=0.3.65->langchain-huggingface) (3.0.0)\n",
      "Requirement already satisfied: httpx<1,>=0.23.0 in /home/dawid/github/sarumaj/langchain_memvid/.venv/lib/python3.12/site-packages (from langsmith<0.4,>=0.3.45->langchain-core<1.0.0,>=0.3.65->langchain-huggingface) (0.28.1)\n",
      "Requirement already satisfied: orjson<4.0.0,>=3.9.14 in /home/dawid/github/sarumaj/langchain_memvid/.venv/lib/python3.12/site-packages (from langsmith<0.4,>=0.3.45->langchain-core<1.0.0,>=0.3.65->langchain-huggingface) (3.10.18)\n",
      "Requirement already satisfied: requests-toolbelt<2.0.0,>=1.0.0 in /home/dawid/github/sarumaj/langchain_memvid/.venv/lib/python3.12/site-packages (from langsmith<0.4,>=0.3.45->langchain-core<1.0.0,>=0.3.65->langchain-huggingface) (1.0.0)\n",
      "Requirement already satisfied: zstandard<0.24.0,>=0.23.0 in /home/dawid/github/sarumaj/langchain_memvid/.venv/lib/python3.12/site-packages (from langsmith<0.4,>=0.3.45->langchain-core<1.0.0,>=0.3.65->langchain-huggingface) (0.23.0)\n",
      "Requirement already satisfied: ptyprocess>=0.5 in /home/dawid/github/sarumaj/langchain_memvid/.venv/lib/python3.12/site-packages (from pexpect>4.3->ipython>=6.1.0->ipywidgets) (0.7.0)\n",
      "Requirement already satisfied: wcwidth in /home/dawid/github/sarumaj/langchain_memvid/.venv/lib/python3.12/site-packages (from prompt_toolkit<3.1.0,>=3.0.41->ipython>=6.1.0->ipywidgets) (0.2.13)\n",
      "Requirement already satisfied: annotated-types>=0.6.0 in /home/dawid/github/sarumaj/langchain_memvid/.venv/lib/python3.12/site-packages (from pydantic>=2.7.4->langchain-core<1.0.0,>=0.3.65->langchain-huggingface) (0.7.0)\n",
      "Requirement already satisfied: pydantic-core==2.33.2 in /home/dawid/github/sarumaj/langchain_memvid/.venv/lib/python3.12/site-packages (from pydantic>=2.7.4->langchain-core<1.0.0,>=0.3.65->langchain-huggingface) (2.33.2)\n",
      "Requirement already satisfied: typing-inspection>=0.4.0 in /home/dawid/github/sarumaj/langchain_memvid/.venv/lib/python3.12/site-packages (from pydantic>=2.7.4->langchain-core<1.0.0,>=0.3.65->langchain-huggingface) (0.4.1)\n",
      "Requirement already satisfied: charset_normalizer<4,>=2 in /home/dawid/github/sarumaj/langchain_memvid/.venv/lib/python3.12/site-packages (from requests->huggingface-hub>=0.30.2->langchain-huggingface) (3.4.2)\n",
      "Requirement already satisfied: idna<4,>=2.5 in /home/dawid/github/sarumaj/langchain_memvid/.venv/lib/python3.12/site-packages (from requests->huggingface-hub>=0.30.2->langchain-huggingface) (3.10)\n",
      "Requirement already satisfied: urllib3<3,>=1.21.1 in /home/dawid/github/sarumaj/langchain_memvid/.venv/lib/python3.12/site-packages (from requests->huggingface-hub>=0.30.2->langchain-huggingface) (2.4.0)\n",
      "Requirement already satisfied: certifi>=2017.4.17 in /home/dawid/github/sarumaj/langchain_memvid/.venv/lib/python3.12/site-packages (from requests->huggingface-hub>=0.30.2->langchain-huggingface) (2025.6.15)\n",
      "Requirement already satisfied: mpmath<1.4,>=1.1.0 in /home/dawid/github/sarumaj/langchain_memvid/.venv/lib/python3.12/site-packages (from sympy>=1.13.3->torch>=1.11.0->sentence-transformers) (1.3.0)\n",
      "Requirement already satisfied: MarkupSafe>=2.0 in /home/dawid/github/sarumaj/langchain_memvid/.venv/lib/python3.12/site-packages (from jinja2->torch>=1.11.0->sentence-transformers) (3.0.2)\n",
      "Requirement already satisfied: executing>=1.2.0 in /home/dawid/github/sarumaj/langchain_memvid/.venv/lib/python3.12/site-packages (from stack_data->ipython>=6.1.0->ipywidgets) (2.2.0)\n",
      "Requirement already satisfied: asttokens>=2.1.0 in /home/dawid/github/sarumaj/langchain_memvid/.venv/lib/python3.12/site-packages (from stack_data->ipython>=6.1.0->ipywidgets) (3.0.0)\n",
      "Requirement already satisfied: pure-eval in /home/dawid/github/sarumaj/langchain_memvid/.venv/lib/python3.12/site-packages (from stack_data->ipython>=6.1.0->ipywidgets) (0.2.3)\n",
      "Requirement already satisfied: anyio in /home/dawid/github/sarumaj/langchain_memvid/.venv/lib/python3.12/site-packages (from httpx<1,>=0.23.0->langsmith<0.4,>=0.3.45->langchain-core<1.0.0,>=0.3.65->langchain-huggingface) (4.9.0)\n",
      "Requirement already satisfied: httpcore==1.* in /home/dawid/github/sarumaj/langchain_memvid/.venv/lib/python3.12/site-packages (from httpx<1,>=0.23.0->langsmith<0.4,>=0.3.45->langchain-core<1.0.0,>=0.3.65->langchain-huggingface) (1.0.9)\n",
      "Requirement already satisfied: h11>=0.16 in /home/dawid/github/sarumaj/langchain_memvid/.venv/lib/python3.12/site-packages (from httpcore==1.*->httpx<1,>=0.23.0->langsmith<0.4,>=0.3.45->langchain-core<1.0.0,>=0.3.65->langchain-huggingface) (0.16.0)\n",
      "Requirement already satisfied: sniffio>=1.1 in /home/dawid/github/sarumaj/langchain_memvid/.venv/lib/python3.12/site-packages (from anyio->httpx<1,>=0.23.0->langsmith<0.4,>=0.3.45->langchain-core<1.0.0,>=0.3.65->langchain-huggingface) (1.3.1)\n",
      "\u001b[?1h\u001b=\u001b]0;\u0007Note: you may need to restart the kernel to use updated packages.\n",
      "\u001b[?1h\u001b=Obtaining file:///home/dawid/github/sarumaj/langchain_memvid\n",
      "  Installing build dependencies ... \u001b[?25ldone\n",
      "\u001b[?25h  Checking if build backend supports build_editable ... \u001b[?25ldone\n",
      "\u001b[?25h  Getting requirements to build editable ... \u001b[?25ldone\n",
      "\u001b[?25h  Preparing editable metadata (pyproject.toml) ... \u001b[?25ldone\n",
      "\u001b[?25hRequirement already satisfied: faiss-cpu==1.11.0 in /home/dawid/github/sarumaj/langchain_memvid/.venv/lib/python3.12/site-packages (from langchain-memvid==0.0.0) (1.11.0)\n",
      "Requirement already satisfied: langchain-core==0.3.65 in /home/dawid/github/sarumaj/langchain_memvid/.venv/lib/python3.12/site-packages (from langchain-memvid==0.0.0) (0.3.65)\n",
      "Requirement already satisfied: nest_asyncio==1.6.0 in /home/dawid/github/sarumaj/langchain_memvid/.venv/lib/python3.12/site-packages (from langchain-memvid==0.0.0) (1.6.0)\n",
      "Requirement already satisfied: qrcode==8.2 in /home/dawid/github/sarumaj/langchain_memvid/.venv/lib/python3.12/site-packages (from qrcode[pil]==8.2->langchain-memvid==0.0.0) (8.2)\n",
      "Requirement already satisfied: opencv-contrib-python==4.11.0.86 in /home/dawid/github/sarumaj/langchain_memvid/.venv/lib/python3.12/site-packages (from langchain-memvid==0.0.0) (4.11.0.86)\n",
      "Requirement already satisfied: opencv-python==4.11.0.86 in /home/dawid/github/sarumaj/langchain_memvid/.venv/lib/python3.12/site-packages (from langchain-memvid==0.0.0) (4.11.0.86)\n",
      "Requirement already satisfied: orjson==3.10.18 in /home/dawid/github/sarumaj/langchain_memvid/.venv/lib/python3.12/site-packages (from langchain-memvid==0.0.0) (3.10.18)\n",
      "Requirement already satisfied: pydantic==2.11.7 in /home/dawid/github/sarumaj/langchain_memvid/.venv/lib/python3.12/site-packages (from langchain-memvid==0.0.0) (2.11.7)\n",
      "Requirement already satisfied: msgpack==1.1.1 in /home/dawid/github/sarumaj/langchain_memvid/.venv/lib/python3.12/site-packages (from langchain-memvid==0.0.0) (1.1.1)\n",
      "Requirement already satisfied: msgpack-numpy==0.4.8 in /home/dawid/github/sarumaj/langchain_memvid/.venv/lib/python3.12/site-packages (from langchain-memvid==0.0.0) (0.4.8)\n",
      "Requirement already satisfied: tqdm==4.67.1 in /home/dawid/github/sarumaj/langchain_memvid/.venv/lib/python3.12/site-packages (from langchain-memvid==0.0.0) (4.67.1)\n",
      "Requirement already satisfied: numpy<3.0,>=1.25.0 in /home/dawid/github/sarumaj/langchain_memvid/.venv/lib/python3.12/site-packages (from faiss-cpu==1.11.0->langchain-memvid==0.0.0) (2.3.0)\n",
      "Requirement already satisfied: packaging in /home/dawid/github/sarumaj/langchain_memvid/.venv/lib/python3.12/site-packages (from faiss-cpu==1.11.0->langchain-memvid==0.0.0) (24.2)\n",
      "Requirement already satisfied: langsmith<0.4,>=0.3.45 in /home/dawid/github/sarumaj/langchain_memvid/.venv/lib/python3.12/site-packages (from langchain-core==0.3.65->langchain-memvid==0.0.0) (0.3.45)\n",
      "Requirement already satisfied: tenacity!=8.4.0,<10.0.0,>=8.1.0 in /home/dawid/github/sarumaj/langchain_memvid/.venv/lib/python3.12/site-packages (from langchain-core==0.3.65->langchain-memvid==0.0.0) (9.1.2)\n",
      "Requirement already satisfied: jsonpatch<2.0,>=1.33 in /home/dawid/github/sarumaj/langchain_memvid/.venv/lib/python3.12/site-packages (from langchain-core==0.3.65->langchain-memvid==0.0.0) (1.33)\n",
      "Requirement already satisfied: PyYAML>=5.3 in /home/dawid/github/sarumaj/langchain_memvid/.venv/lib/python3.12/site-packages (from langchain-core==0.3.65->langchain-memvid==0.0.0) (6.0.2)\n",
      "Requirement already satisfied: typing-extensions>=4.7 in /home/dawid/github/sarumaj/langchain_memvid/.venv/lib/python3.12/site-packages (from langchain-core==0.3.65->langchain-memvid==0.0.0) (4.14.0)\n",
      "Requirement already satisfied: annotated-types>=0.6.0 in /home/dawid/github/sarumaj/langchain_memvid/.venv/lib/python3.12/site-packages (from pydantic==2.11.7->langchain-memvid==0.0.0) (0.7.0)\n",
      "Requirement already satisfied: pydantic-core==2.33.2 in /home/dawid/github/sarumaj/langchain_memvid/.venv/lib/python3.12/site-packages (from pydantic==2.11.7->langchain-memvid==0.0.0) (2.33.2)\n",
      "Requirement already satisfied: typing-inspection>=0.4.0 in /home/dawid/github/sarumaj/langchain_memvid/.venv/lib/python3.12/site-packages (from pydantic==2.11.7->langchain-memvid==0.0.0) (0.4.1)\n",
      "Requirement already satisfied: pillow>=9.1.0 in /home/dawid/github/sarumaj/langchain_memvid/.venv/lib/python3.12/site-packages (from qrcode[pil]==8.2->langchain-memvid==0.0.0) (11.2.1)\n",
      "Requirement already satisfied: pypdf==5.6.0 in /home/dawid/github/sarumaj/langchain_memvid/.venv/lib/python3.12/site-packages (from langchain-memvid==0.0.0) (5.6.0)\n",
      "Requirement already satisfied: beautifulsoup4==4.13.4 in /home/dawid/github/sarumaj/langchain_memvid/.venv/lib/python3.12/site-packages (from langchain-memvid==0.0.0) (4.13.4)\n",
      "Requirement already satisfied: ebooklib==0.18 in /home/dawid/github/sarumaj/langchain_memvid/.venv/lib/python3.12/site-packages (from langchain-memvid==0.0.0) (0.18)\n",
      "Requirement already satisfied: pytest==8.0.0 in /home/dawid/github/sarumaj/langchain_memvid/.venv/lib/python3.12/site-packages (from langchain-memvid==0.0.0) (8.0.0)\n",
      "Requirement already satisfied: soupsieve>1.2 in /home/dawid/github/sarumaj/langchain_memvid/.venv/lib/python3.12/site-packages (from beautifulsoup4==4.13.4->langchain-memvid==0.0.0) (2.7)\n",
      "Requirement already satisfied: lxml in /home/dawid/github/sarumaj/langchain_memvid/.venv/lib/python3.12/site-packages (from ebooklib==0.18->langchain-memvid==0.0.0) (5.4.0)\n",
      "Requirement already satisfied: six in /home/dawid/github/sarumaj/langchain_memvid/.venv/lib/python3.12/site-packages (from ebooklib==0.18->langchain-memvid==0.0.0) (1.17.0)\n",
      "Requirement already satisfied: iniconfig in /home/dawid/github/sarumaj/langchain_memvid/.venv/lib/python3.12/site-packages (from pytest==8.0.0->langchain-memvid==0.0.0) (2.1.0)\n",
      "Requirement already satisfied: pluggy<2.0,>=1.3.0 in /home/dawid/github/sarumaj/langchain_memvid/.venv/lib/python3.12/site-packages (from pytest==8.0.0->langchain-memvid==0.0.0) (1.6.0)\n",
      "Requirement already satisfied: jsonpointer>=1.9 in /home/dawid/github/sarumaj/langchain_memvid/.venv/lib/python3.12/site-packages (from jsonpatch<2.0,>=1.33->langchain-core==0.3.65->langchain-memvid==0.0.0) (3.0.0)\n",
      "Requirement already satisfied: httpx<1,>=0.23.0 in /home/dawid/github/sarumaj/langchain_memvid/.venv/lib/python3.12/site-packages (from langsmith<0.4,>=0.3.45->langchain-core==0.3.65->langchain-memvid==0.0.0) (0.28.1)\n",
      "Requirement already satisfied: requests<3,>=2 in /home/dawid/github/sarumaj/langchain_memvid/.venv/lib/python3.12/site-packages (from langsmith<0.4,>=0.3.45->langchain-core==0.3.65->langchain-memvid==0.0.0) (2.32.4)\n",
      "Requirement already satisfied: requests-toolbelt<2.0.0,>=1.0.0 in /home/dawid/github/sarumaj/langchain_memvid/.venv/lib/python3.12/site-packages (from langsmith<0.4,>=0.3.45->langchain-core==0.3.65->langchain-memvid==0.0.0) (1.0.0)\n",
      "Requirement already satisfied: zstandard<0.24.0,>=0.23.0 in /home/dawid/github/sarumaj/langchain_memvid/.venv/lib/python3.12/site-packages (from langsmith<0.4,>=0.3.45->langchain-core==0.3.65->langchain-memvid==0.0.0) (0.23.0)\n",
      "Requirement already satisfied: anyio in /home/dawid/github/sarumaj/langchain_memvid/.venv/lib/python3.12/site-packages (from httpx<1,>=0.23.0->langsmith<0.4,>=0.3.45->langchain-core==0.3.65->langchain-memvid==0.0.0) (4.9.0)\n",
      "Requirement already satisfied: certifi in /home/dawid/github/sarumaj/langchain_memvid/.venv/lib/python3.12/site-packages (from httpx<1,>=0.23.0->langsmith<0.4,>=0.3.45->langchain-core==0.3.65->langchain-memvid==0.0.0) (2025.6.15)\n",
      "Requirement already satisfied: httpcore==1.* in /home/dawid/github/sarumaj/langchain_memvid/.venv/lib/python3.12/site-packages (from httpx<1,>=0.23.0->langsmith<0.4,>=0.3.45->langchain-core==0.3.65->langchain-memvid==0.0.0) (1.0.9)\n",
      "Requirement already satisfied: idna in /home/dawid/github/sarumaj/langchain_memvid/.venv/lib/python3.12/site-packages (from httpx<1,>=0.23.0->langsmith<0.4,>=0.3.45->langchain-core==0.3.65->langchain-memvid==0.0.0) (3.10)\n",
      "Requirement already satisfied: h11>=0.16 in /home/dawid/github/sarumaj/langchain_memvid/.venv/lib/python3.12/site-packages (from httpcore==1.*->httpx<1,>=0.23.0->langsmith<0.4,>=0.3.45->langchain-core==0.3.65->langchain-memvid==0.0.0) (0.16.0)\n",
      "Requirement already satisfied: charset_normalizer<4,>=2 in /home/dawid/github/sarumaj/langchain_memvid/.venv/lib/python3.12/site-packages (from requests<3,>=2->langsmith<0.4,>=0.3.45->langchain-core==0.3.65->langchain-memvid==0.0.0) (3.4.2)\n",
      "Requirement already satisfied: urllib3<3,>=1.21.1 in /home/dawid/github/sarumaj/langchain_memvid/.venv/lib/python3.12/site-packages (from requests<3,>=2->langsmith<0.4,>=0.3.45->langchain-core==0.3.65->langchain-memvid==0.0.0) (2.4.0)\n",
      "Requirement already satisfied: sniffio>=1.1 in /home/dawid/github/sarumaj/langchain_memvid/.venv/lib/python3.12/site-packages (from anyio->httpx<1,>=0.23.0->langsmith<0.4,>=0.3.45->langchain-core==0.3.65->langchain-memvid==0.0.0) (1.3.1)\n",
      "Checking if build backend supports build_editable ... \u001b[?25ldone\n",
      "\u001b[?25hBuilding wheels for collected packages: langchain-memvid\n",
      "  Building editable for langchain-memvid (pyproject.toml) ... \u001b[?25ldone\n",
      "\u001b[?25h  Created wheel for langchain-memvid: filename=langchain_memvid-0.0.0-0.editable-py3-none-any.whl size=4683 sha256=82ec5da1ba26750c7aaf689df5473e6b3ead96c539680a9afd51bc20cbcfcc4c\n",
      "  Stored in directory: /tmp/pip-ephem-wheel-cache-pbe87wbz/wheels/14/75/ce/bb01a67b6b4192bc5ce74e0e4e063ed2b884fd1cc930f50464\n",
      "Successfully built langchain-memvid\n",
      "Installing collected packages: langchain-memvid\n",
      "  Attempting uninstall: langchain-memvid\n",
      "    Found existing installation: langchain-memvid 0.0.0\n",
      "    Uninstalling langchain-memvid-0.0.0:\n",
      "      Successfully uninstalled langchain-memvid-0.0.0\n",
      "Successfully installed langchain-memvid-0.0.0\n",
      "\u001b[?1h\u001b=\u001b]0;\u0007Note: you may need to restart the kernel to use updated packages.\n"
     ]
    }
   ],
   "source": [
    "from IPython.display import clear_output\n",
    "\n",
    "%pip install langchain-huggingface sentence-transformers ipywidgets\n",
    "%pip install -e ..[all]\n",
    "clear_output(wait=True)\n",
    "\n",
    "from langchain_huggingface import HuggingFaceEmbeddings\n",
    "\n",
    "from langchain_memvid import VectorStore, VectorStoreConfig"
   ]
  },
  {
   "cell_type": "code",
   "execution_count": 2,
   "metadata": {},
   "outputs": [],
   "source": [
    "vs_cfg = VectorStoreConfig()\n",
    "embeddings = HuggingFaceEmbeddings()\n",
    "vs = VectorStore(video_file=\"output.mp4\", index_file=\"index.json\", embedding=embeddings, config=vs_cfg)"
   ]
  },
  {
   "cell_type": "code",
   "execution_count": 3,
   "metadata": {},
   "outputs": [
    {
     "name": "stderr",
     "output_type": "stream",
     "text": [
      "Generating QR codes: 100%|██████████| 3/3 [00:00<00:00, 42.77it/s]\n",
      "/home/dawid/github/sarumaj/langchain_memvid/src/langchain_memvid/encoder.py:640: UserWarning: h265 encoding failed: Invalid suffix 'mkv'. Falling back to MP4V.\n",
      "  warnings.warn(f\"{codec} encoding failed: {e}. Falling back to MP4V.\", UserWarning)\n",
      "Writing video frames:   0%|          | 0/3 [00:00<?, ?it/s]\n"
     ]
    },
    {
     "data": {
      "text/plain": [
       "['0', '1', '2']"
      ]
     },
     "execution_count": 3,
     "metadata": {},
     "output_type": "execute_result"
    }
   ],
   "source": [
    "chunks = [\"Important fact 1\", \"Important fact 2\", \"Historical event details\"]\n",
    "vs.add_texts(chunks)"
   ]
  },
  {
   "cell_type": "code",
   "execution_count": 4,
   "metadata": {},
   "outputs": [
    {
     "data": {
      "text/plain": [
       "[Document(metadata={'id': 0, 'text': 'Important fact 1', 'frame': 0, 'length': 16}, page_content='Important fact 1'),\n",
       " Document(metadata={'id': 2, 'text': 'Historical event details', 'frame': 2, 'length': 24}, page_content='Historical event details'),\n",
       " Document(metadata={'id': 1, 'text': 'Important fact 2', 'frame': 1, 'length': 16}, page_content='Important fact 2')]"
      ]
     },
     "execution_count": 4,
     "metadata": {},
     "output_type": "execute_result"
    }
   ],
   "source": [
    "results = vs.similarity_search(\"machine learning algorithms\", top_k=3)\n",
    "results"
   ]
  }
 ],
 "metadata": {
  "kernelspec": {
   "display_name": ".venv",
   "language": "python",
   "name": "python3"
  },
  "language_info": {
   "codemirror_mode": {
    "name": "ipython",
    "version": 3
   },
   "file_extension": ".py",
   "mimetype": "text/x-python",
   "name": "python",
   "nbconvert_exporter": "python",
   "pygments_lexer": "ipython3",
   "version": "3.12.3"
  }
 },
 "nbformat": 4,
 "nbformat_minor": 2
}
