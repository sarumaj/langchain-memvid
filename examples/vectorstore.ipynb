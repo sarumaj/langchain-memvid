{
 "cells": [
  {
   "cell_type": "code",
   "execution_count": 1,
   "metadata": {},
   "outputs": [
    {
     "name": "stdout",
     "output_type": "stream",
     "text": [
      "Warning: OpenAI library not available. OpenAI provider will be disabled.\n",
      "Warning: Google Generative AI library not available. Google provider will be disabled.\n",
      "Warning: Anthropic library not available. Anthropic provider will be disabled.\n"
     ]
    }
   ],
   "source": [
    "from langchain_huggingface import HuggingFaceEmbeddings\n",
    "\n",
    "from langchain_memvid import VectorStore, VectorStoreConfig"
   ]
  },
  {
   "cell_type": "code",
   "execution_count": 2,
   "metadata": {},
   "outputs": [],
   "source": [
    "vs_cfg = VectorStoreConfig()\n",
    "embeddings = HuggingFaceEmbeddings()\n",
    "vs = VectorStore(video_file=\"output.mp4\", index_file=\"index.json\", embedding=embeddings, config=vs_cfg)"
   ]
  },
  {
   "cell_type": "code",
   "execution_count": 3,
   "metadata": {},
   "outputs": [
    {
     "name": "stderr",
     "output_type": "stream",
     "text": [
      "Generating QR codes: 100%|██████████| 3/3 [00:00<00:00, 44.23it/s]\n",
      "/home/dawid/github/sarumaj/langchain_memvid/src/langchain_memvid/encoder.py:667: UserWarning: h265 encoding failed: Invalid suffix 'mkv'. Falling back to MP4V.\n",
      "  warnings.warn(f\"{codec} encoding failed: {e}. Falling back to MP4V.\", UserWarning)\n",
      "Writing video frames:   0%|          | 0/3 [00:00<?, ?it/s]\n",
      "Video file /home/dawid/github/sarumaj/langchain_memvid/examples/index.mp4 not found, metadata not embedded\n",
      "Failed to add texts: No metadata found at /home/dawid/github/sarumaj/langchain_memvid/examples/index.json\n"
     ]
    },
    {
     "ename": "RuntimeError",
     "evalue": "Failed to add texts: No metadata found at /home/dawid/github/sarumaj/langchain_memvid/examples/index.json",
     "output_type": "error",
     "traceback": [
      "\u001b[31m---------------------------------------------------------------------------\u001b[39m",
      "\u001b[31mFileNotFoundError\u001b[39m                         Traceback (most recent call last)",
      "\u001b[36mFile \u001b[39m\u001b[32m~/github/sarumaj/langchain_memvid/src/langchain_memvid/vectorstore.py:181\u001b[39m, in \u001b[36mVectorStore.add_texts\u001b[39m\u001b[34m(self, texts, metadatas, **kwargs)\u001b[39m\n\u001b[32m    180\u001b[39m \u001b[38;5;66;03m# Reload index in index manager after building\u001b[39;00m\n\u001b[32m--> \u001b[39m\u001b[32m181\u001b[39m \u001b[38;5;28;43mself\u001b[39;49m\u001b[43m.\u001b[49m\u001b[43mindex_manager\u001b[49m\u001b[43m.\u001b[49m\u001b[43mload\u001b[49m\u001b[43m(\u001b[49m\u001b[38;5;28;43mself\u001b[39;49m\u001b[43m.\u001b[49m\u001b[43mindex_file\u001b[49m\u001b[43m)\u001b[49m\n\u001b[32m    183\u001b[39m \u001b[38;5;66;03m# Reset retriever if it exists to force recreation\u001b[39;00m\n",
      "\u001b[36mFile \u001b[39m\u001b[32m~/github/sarumaj/langchain_memvid/src/langchain_memvid/index.py:675\u001b[39m, in \u001b[36mIndexManager.load\u001b[39m\u001b[34m(self, path)\u001b[39m\n\u001b[32m    674\u001b[39m \u001b[38;5;28;01melse\u001b[39;00m:\n\u001b[32m--> \u001b[39m\u001b[32m675\u001b[39m     \u001b[38;5;28;01mraise\u001b[39;00m \u001b[38;5;167;01mFileNotFoundError\u001b[39;00m(\u001b[33mf\u001b[39m\u001b[33m\"\u001b[39m\u001b[33mNo metadata found at \u001b[39m\u001b[38;5;132;01m{\u001b[39;00mpath\u001b[38;5;132;01m}\u001b[39;00m\u001b[33m\"\u001b[39m)\n\u001b[32m    677\u001b[39m \u001b[38;5;28mself\u001b[39m.metadata = {\u001b[38;5;28mint\u001b[39m(k): v \u001b[38;5;28;01mfor\u001b[39;00m k, v \u001b[38;5;129;01min\u001b[39;00m data[\u001b[33m\"\u001b[39m\u001b[33mmetadata\u001b[39m\u001b[33m\"\u001b[39m].items()}\n",
      "\u001b[31mFileNotFoundError\u001b[39m: No metadata found at /home/dawid/github/sarumaj/langchain_memvid/examples/index.json",
      "\nThe above exception was the direct cause of the following exception:\n",
      "\u001b[31mRuntimeError\u001b[39m                              Traceback (most recent call last)",
      "\u001b[36mCell\u001b[39m\u001b[36m \u001b[39m\u001b[32mIn[3]\u001b[39m\u001b[32m, line 2\u001b[39m\n\u001b[32m      1\u001b[39m chunks = [\u001b[33m\"\u001b[39m\u001b[33mImportant fact 1\u001b[39m\u001b[33m\"\u001b[39m, \u001b[33m\"\u001b[39m\u001b[33mImportant fact 2\u001b[39m\u001b[33m\"\u001b[39m, \u001b[33m\"\u001b[39m\u001b[33mHistorical event details\u001b[39m\u001b[33m\"\u001b[39m]\n\u001b[32m----> \u001b[39m\u001b[32m2\u001b[39m \u001b[43mvs\u001b[49m\u001b[43m.\u001b[49m\u001b[43madd_texts\u001b[49m\u001b[43m(\u001b[49m\u001b[43mchunks\u001b[49m\u001b[43m)\u001b[49m\n",
      "\u001b[36mFile \u001b[39m\u001b[32m~/github/sarumaj/langchain_memvid/src/langchain_memvid/vectorstore.py:197\u001b[39m, in \u001b[36mVectorStore.add_texts\u001b[39m\u001b[34m(self, texts, metadatas, **kwargs)\u001b[39m\n\u001b[32m    195\u001b[39m \u001b[38;5;28;01mexcept\u001b[39;00m \u001b[38;5;167;01mException\u001b[39;00m \u001b[38;5;28;01mas\u001b[39;00m e:\n\u001b[32m    196\u001b[39m     logger.error(\u001b[33mf\u001b[39m\u001b[33m\"\u001b[39m\u001b[33mFailed to add texts: \u001b[39m\u001b[38;5;132;01m{\u001b[39;00me\u001b[38;5;132;01m}\u001b[39;00m\u001b[33m\"\u001b[39m)\n\u001b[32m--> \u001b[39m\u001b[32m197\u001b[39m     \u001b[38;5;28;01mraise\u001b[39;00m \u001b[38;5;167;01mRuntimeError\u001b[39;00m(\u001b[33mf\u001b[39m\u001b[33m\"\u001b[39m\u001b[33mFailed to add texts: \u001b[39m\u001b[38;5;132;01m{\u001b[39;00me\u001b[38;5;132;01m}\u001b[39;00m\u001b[33m\"\u001b[39m) \u001b[38;5;28;01mfrom\u001b[39;00m\u001b[38;5;250m \u001b[39m\u001b[34;01me\u001b[39;00m\n",
      "\u001b[31mRuntimeError\u001b[39m: Failed to add texts: No metadata found at /home/dawid/github/sarumaj/langchain_memvid/examples/index.json"
     ]
    }
   ],
   "source": [
    "chunks = [\"Important fact 1\", \"Important fact 2\", \"Historical event details\"]\n",
    "vs.add_texts(chunks)"
   ]
  },
  {
   "cell_type": "code",
   "execution_count": null,
   "metadata": {},
   "outputs": [
    {
     "data": {
      "text/plain": [
       "[Document(metadata={'id': 0, 'text': 'Important fact 1', 'frame': 0, 'length': 16}, page_content='Important fact 1'),\n",
       " Document(metadata={'id': 2, 'text': 'Historical event details', 'frame': 2, 'length': 24}, page_content='Historical event details'),\n",
       " Document(metadata={'id': 1, 'text': 'Important fact 2', 'frame': 1, 'length': 16}, page_content='Important fact 2')]"
      ]
     },
     "execution_count": 4,
     "metadata": {},
     "output_type": "execute_result"
    }
   ],
   "source": [
    "results = vs.similarity_search(\"machine learning algorithms\", top_k=3)\n",
    "results"
   ]
  }
 ],
 "metadata": {
  "kernelspec": {
   "display_name": ".venv",
   "language": "python",
   "name": "python3"
  },
  "language_info": {
   "codemirror_mode": {
    "name": "ipython",
    "version": 3
   },
   "file_extension": ".py",
   "mimetype": "text/x-python",
   "name": "python",
   "nbconvert_exporter": "python",
   "pygments_lexer": "ipython3",
   "version": "3.12.3"
  }
 },
 "nbformat": 4,
 "nbformat_minor": 2
}
