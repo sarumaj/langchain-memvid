{
 "cells": [
  {
   "cell_type": "markdown",
   "metadata": {},
   "source": [
    "# LangChain MemVid Quick Start Guide\n",
    "\n",
    "This notebook demonstrates the basic usage of the LangChain MemVid library, which allows you to store and retrieve text data using video files as a storage medium."
   ]
  },
  {
   "cell_type": "code",
   "execution_count": 1,
   "metadata": {},
   "outputs": [
    {
     "data": {
      "text/html": [
       "<div style='color: green'><b>Successfully loaded langchain_memvid IPython extension.</b></div>"
      ],
      "text/plain": [
       "<IPython.core.display.HTML object>"
      ]
     },
     "metadata": {},
     "output_type": "display_data"
    },
    {
     "data": {
      "text/html": [
       "<div style='color: green'><b>Jupyter kernel restarted.</b></div>"
      ],
      "text/plain": [
       "<IPython.core.display.HTML object>"
      ]
     },
     "metadata": {},
     "output_type": "display_data"
    },
    {
     "data": {
      "application/javascript": "(() => {\n    let kernel = null;\n    if (typeof IPython !== 'undefined' && IPython.notebook?.kernel) {\n        kernel = IPython.notebook.kernel;\n    } else if (typeof Jupyter !== 'undefined' && Jupyter.notebook?.kernel) {\n        kernel = Jupyter.notebook.kernel;\n    } else if (typeof JupyterLab !== 'undefined' && JupyterLab.serviceManager) {\n        try {\n            const sessions = JupyterLab.serviceManager.sessions.running();\n            for (const session of sessions) {\n                if (session.kernel) {\n                    kernel = session.kernel;\n                    break;\n                }\n            }\n        } catch (e) {\n            console.warn('JupyterLab kernel detection failed:', e);\n        }\n    }\n    if (kernel?.restart) {\n        kernel.restart();\n    } else {\n        console.error('No compatible kernel found');\n    }\n})();\n",
      "text/plain": [
       "<IPython.core.display.Javascript object>"
      ]
     },
     "metadata": {},
     "output_type": "display_data"
    },
    {
     "data": {
      "text/html": [
       "<div style='color: green'><b>Muted IPython shell.</b></div>"
      ],
      "text/plain": [
       "<IPython.core.display.HTML object>"
      ]
     },
     "metadata": {},
     "output_type": "display_data"
    }
   ],
   "source": [
    "%pip install -e ..\n",
    "%load_ext ipykernel_memvid_extension\n",
    "%restart_kernel -f\n",
    "%mute"
   ]
  },
  {
   "cell_type": "markdown",
   "metadata": {},
   "source": [
    "## Setup and Imports\n",
    "\n",
    "First, we'll install the required dependencies and import the necessary modules. The main components we need are:\n",
    "- `langchain-huggingface` for embeddings\n",
    "- `sentence-transformers` for the underlying embedding model\n",
    "- `VectorStore` from langchain_memvid for our main functionality"
   ]
  },
  {
   "cell_type": "code",
   "execution_count": 2,
   "metadata": {},
   "outputs": [
    {
     "data": {
      "text/html": [
       "<div style='color: green'><p><b>Installed:</b></p><table><tr><th style=\"text-align: left\"><b>Package</b></th><th style=\"text-align: left\"><b>Version</b></th></tr><tr><td style=\"text-align: left\">langchain-huggingface</td><td style=\"text-align: left\">0.3.0</td></tr><tr><td style=\"text-align: left\">sentence-transformers</td><td style=\"text-align: left\">4.1.0</td></tr></table></div>"
      ],
      "text/plain": [
       "<IPython.core.display.HTML object>"
      ]
     },
     "metadata": {},
     "output_type": "display_data"
    }
   ],
   "source": [
    "%pip_install langchain-huggingface sentence-transformers\n",
    "\n",
    "from langchain_huggingface import HuggingFaceEmbeddings\n",
    "from pathlib import Path\n",
    "\n",
    "from langchain_memvid import VectorStore"
   ]
  },
  {
   "cell_type": "markdown",
   "metadata": {},
   "source": [
    "## Creating a Vector Store\n",
    "\n",
    "Now we'll create a vector store with some example data. We'll:\n",
    "1. Define paths for storing the video and index files\n",
    "2. Initialize the embedding model\n",
    "3. Create sample text data with metadata\n",
    "4. Build the vector store from our texts\n",
    "\n",
    "Note: The metadata helps organize and filter our data, associating each text with a source, category, and ID."
   ]
  },
  {
   "cell_type": "code",
   "execution_count": 3,
   "metadata": {},
   "outputs": [
    {
     "name": "stdout",
     "output_type": "stream",
     "text": [
      "[2025-06-20 20:45:18] INFO [langchain_memvid.encoder.add_chunks:85] Added 6 chunks for encoding\n",
      "[2025-06-20 20:45:18] WARNING [langchain_memvid.index.create_index:152] Minimum points required (3000) is too high. Falling back to flat index.\n",
      "[2025-06-20 20:45:18] INFO [langchain_memvid.index.create_index:166] Created faiss index with cosine metric\n",
      "[2025-06-20 20:45:18] INFO [langchain_memvid.index.add_texts:182] Embedding 6 texts...\n"
     ]
    },
    {
     "name": "stderr",
     "output_type": "stream",
     "text": [
      "Embedding texts: 100%|██████████| 1/1 [00:00<00:00, 84.86it/s]\n",
      "Deduplicating texts: 100%|██████████| 6/6 [00:00<00:00, 67108.86it/s]\n",
      "Adding vectors to index: 100%|██████████| 1/1 [00:00<00:00, 13315.25it/s]"
     ]
    },
    {
     "name": "stdout",
     "output_type": "stream",
     "text": [
      "[2025-06-20 20:45:18] INFO [langchain_memvid.index.add_texts:298] Added 6 unique texts to index\n"
     ]
    },
    {
     "name": "stderr",
     "output_type": "stream",
     "text": [
      "\n"
     ]
    },
    {
     "name": "stdout",
     "output_type": "stream",
     "text": [
      "[2025-06-20 20:45:19] INFO [langchain_memvid.video.default.encode_video:218] Encoding 6 frames to video...\n"
     ]
    },
    {
     "name": "stderr",
     "output_type": "stream",
     "text": [
      "Preparing frames: 100%|██████████| 6/6 [00:00<00:00, 106.22it/s]\n",
      "Writing video: 100%|██████████| 6/6 [00:00<00:00, 82.48it/s]"
     ]
    },
    {
     "name": "stdout",
     "output_type": "stream",
     "text": [
      "[2025-06-20 20:45:19] INFO [langchain_memvid.video.default.encode_video:239] Video encoded successfully to /home/dawid/github/sarumaj/langchain-memvid/examples/knowledge_base.mp4\n",
      "[2025-06-20 20:45:19] INFO [langchain_memvid.index.save:620] Saved index to /home/dawid/github/sarumaj/langchain-memvid/examples/knowledge_base_index.d\n",
      "[2025-06-20 20:45:19] INFO [langchain_memvid.encoder.build_video:214] Built video with 6 chunks in 0.98s\n",
      "[2025-06-20 20:45:19] INFO [langchain_memvid.index.load:655] Loaded index from /home/dawid/github/sarumaj/langchain-memvid/examples/knowledge_base_index.d\n",
      "[2025-06-20 20:45:19] INFO [langchain_memvid.vectorstore.add_texts:213] Built video with 6 chunks (1.84 MB)\n"
     ]
    },
    {
     "name": "stderr",
     "output_type": "stream",
     "text": [
      "\n"
     ]
    }
   ],
   "source": [
    "# Paths to store the video and index files\n",
    "knowledge_base_file = Path(\"knowledge_base.mp4\")\n",
    "knowledge_base_index_dir = Path(\"knowledge_base_index.d\")\n",
    "\n",
    "# Embedding model\n",
    "embedding = HuggingFaceEmbeddings()\n",
    "\n",
    "# Example text chunks\n",
    "texts = [\n",
    "    \"The quick brown fox jumps over the lazy dog\",\n",
    "    \"A fast orange fox leaps across a sleepy canine\",\n",
    "    \"The weather is beautiful today\",\n",
    "    \"It's raining cats and dogs outside\",\n",
    "    \"Python is a popular programming language\",\n",
    "    \"JavaScript is widely used for web development\"\n",
    "]\n",
    "\n",
    "# Example metadata for each text\n",
    "metadata = [\n",
    "    {\"id\": 0, \"source\": \"example1.txt\", \"category\": \"animals\"},\n",
    "    {\"id\": 1, \"source\": \"example1.txt\", \"category\": \"animals\"},\n",
    "    {\"id\": 2, \"source\": \"example2.txt\", \"category\": \"weather\"},\n",
    "    {\"id\": 3, \"source\": \"example2.txt\", \"category\": \"weather\"},\n",
    "    {\"id\": 4, \"source\": \"example3.txt\", \"category\": \"programming\"},\n",
    "    {\"id\": 5, \"source\": \"example3.txt\", \"category\": \"programming\"}\n",
    "]\n",
    "\n",
    "# Create vector store\n",
    "vs = VectorStore.from_texts(\n",
    "    texts=texts,\n",
    "    embedding=embedding,\n",
    "    video_file=knowledge_base_file,\n",
    "    index_dir=knowledge_base_index_dir,\n",
    "    metadatas=metadata,\n",
    ")"
   ]
  },
  {
   "cell_type": "markdown",
   "metadata": {},
   "source": [
    "## Performing Similarity Searches\n",
    "\n",
    "Let's test our vector store by performing similarity searches. We'll try different queries to see how well the system retrieves relevant information. The search will return the most similar texts along with their metadata and similarity scores."
   ]
  },
  {
   "cell_type": "code",
   "execution_count": 4,
   "metadata": {},
   "outputs": [
    {
     "name": "stdout",
     "output_type": "stream",
     "text": [
      "[2025-06-20 20:45:19] INFO [langchain_memvid.retriever.model_post_init:72] Initialized retriever with video: /home/dawid/github/sarumaj/langchain-memvid/examples/knowledge_base.mp4\n",
      "[2025-06-20 20:45:19] INFO [langchain_memvid.video.default.decode_video:270] Decoding 6 frames from video...\n"
     ]
    },
    {
     "name": "stderr",
     "output_type": "stream",
     "text": [
      "Decoding video: 100%|██████████| 6/6 [00:00<00:00, 92.48it/s]\n"
     ]
    },
    {
     "name": "stdout",
     "output_type": "stream",
     "text": [
      "[2025-06-20 20:45:19] INFO [langchain_memvid.video.default.decode_video:270] Decoding 6 frames from video...\n"
     ]
    },
    {
     "name": "stderr",
     "output_type": "stream",
     "text": [
      "Decoding video: 100%|██████████| 6/6 [00:00<00:00, 111.00it/s]\n"
     ]
    },
    {
     "name": "stdout",
     "output_type": "stream",
     "text": [
      "[2025-06-20 20:45:19] INFO [langchain_memvid.video.default.decode_video:270] Decoding 6 frames from video...\n"
     ]
    },
    {
     "name": "stderr",
     "output_type": "stream",
     "text": [
      "Decoding video: 100%|██████████| 6/6 [00:00<00:00, 116.34it/s]\n"
     ]
    },
    {
     "name": "stdout",
     "output_type": "stream",
     "text": [
      "[2025-06-20 20:45:19] INFO [langchain_memvid.video.default.decode_video:270] Decoding 6 frames from video...\n"
     ]
    },
    {
     "name": "stderr",
     "output_type": "stream",
     "text": [
      "Decoding video: 100%|██████████| 6/6 [00:00<00:00, 136.70it/s]\n"
     ]
    },
    {
     "name": "stdout",
     "output_type": "stream",
     "text": [
      "[2025-06-20 20:45:19] INFO [langchain_memvid.video.default.decode_video:270] Decoding 6 frames from video...\n"
     ]
    },
    {
     "name": "stderr",
     "output_type": "stream",
     "text": [
      "Decoding video: 100%|██████████| 6/6 [00:00<00:00, 129.58it/s]\n"
     ]
    },
    {
     "name": "stdout",
     "output_type": "stream",
     "text": [
      "[2025-06-20 20:45:19] INFO [langchain_memvid.video.default.decode_video:270] Decoding 6 frames from video...\n"
     ]
    },
    {
     "name": "stderr",
     "output_type": "stream",
     "text": [
      "Decoding video: 100%|██████████| 6/6 [00:00<00:00, 167.49it/s]\n"
     ]
    },
    {
     "data": {
      "text/html": [
       "<table><tr><th style=\"text-align: left\"><b>Query</b></th><th style=\"text-align: left\"><b>Content</b></th><th style=\"text-align: left\"><b>Source</b></th><th style=\"text-align: left\"><b>Category</b></th><th style=\"text-align: left\"><b>Similarity</b></th><th style=\"text-align: left\"><b>Doc Id</b></th><th style=\"text-align: left\"><b>Metadata Hash</b></th><th style=\"text-align: left\"><b>Metadata Type</b></th><th style=\"text-align: left\"><b>Id</b></th></tr><tr><td style='text-align: left'>Tell me about foxes</td><td style='text-align: left'>The quick brown fox jumps over the lazy dog</td><td style='text-align: left'>example1.txt</td><td style='text-align: left'>animals</td><td style='text-align: left'>0.5380151271820068</td><td style='text-align: left'>0</td><td style='text-align: left'>e736fb1873e579b94b33447941a28a2b07b1c5eb109bdb93f2d0bfc29eee43e7</td><td style='text-align: left'>full</td><td style='text-align: left'>0</td></tr><tr><td style='text-align: left'>Tell me about foxes</td><td style='text-align: left'>A fast orange fox leaps across a sleepy canine</td><td style='text-align: left'>example1.txt</td><td style='text-align: left'>animals</td><td style='text-align: left'>0.5364233255386353</td><td style='text-align: left'>1</td><td style='text-align: left'>525e29705fa2d417eb0dd5ab186fcdd1d9d9f2cd0dde16484c6ae14f08b04d4b</td><td style='text-align: left'>full</td><td style='text-align: left'>1</td></tr><tr><td style='text-align: left'>What's the weather like?</td><td style='text-align: left'>The weather is beautiful today</td><td style='text-align: left'>example2.txt</td><td style='text-align: left'>weather</td><td style='text-align: left'>0.47028934955596924</td><td style='text-align: left'>2</td><td style='text-align: left'>fd5c222e2c825c849b761f2d25ff01e5ca10439097e010f22c54e2d86367467c</td><td style='text-align: left'>full</td><td style='text-align: left'>2</td></tr><tr><td style='text-align: left'>What's the weather like?</td><td style='text-align: left'>It's raining cats and dogs outside</td><td style='text-align: left'>example2.txt</td><td style='text-align: left'>weather</td><td style='text-align: left'>0.27837008237838745</td><td style='text-align: left'>3</td><td style='text-align: left'>c137730ab9359e5e77d7bcfcbb95174f7f9ff870533d312553735aa9756a8a39</td><td style='text-align: left'>full</td><td style='text-align: left'>3</td></tr><tr><td style='text-align: left'>What programming languages are mentioned?</td><td style='text-align: left'>Python is a popular programming language</td><td style='text-align: left'>example3.txt</td><td style='text-align: left'>programming</td><td style='text-align: left'>0.5954955816268921</td><td style='text-align: left'>4</td><td style='text-align: left'>be883de17e93c5b9bb0a08bdd6aa44f6cb414fafc77d19b2dada9b8f9fdd4739</td><td style='text-align: left'>full</td><td style='text-align: left'>4</td></tr><tr><td style='text-align: left'>What programming languages are mentioned?</td><td style='text-align: left'>JavaScript is widely used for web development</td><td style='text-align: left'>example3.txt</td><td style='text-align: left'>programming</td><td style='text-align: left'>0.42399585247039795</td><td style='text-align: left'>5</td><td style='text-align: left'>e09923b88b7e20f2ae8feffd485250953e77f59c79afbe40cdf471cf4c80ae74</td><td style='text-align: left'>full</td><td style='text-align: left'>5</td></tr></table>"
      ],
      "text/plain": [
       "<IPython.core.display.HTML object>"
      ]
     },
     "metadata": {},
     "output_type": "display_data"
    }
   ],
   "source": [
    "# Example searches\n",
    "queries = [\n",
    "    \"Tell me about foxes\",\n",
    "    \"What's the weather like?\",\n",
    "    \"What programming languages are mentioned?\"\n",
    "]\n",
    "\n",
    "results = [\n",
    "    {\n",
    "        \"query\": query,\n",
    "        \"content\": doc.page_content,\n",
    "        **{k: v for k, v in doc.metadata.items() if k != \"text\" and v is not None}\n",
    "    }\n",
    "    for query in queries\n",
    "    for doc in vs.similarity_search(query, k=2, include_full_metadata=True)\n",
    "]\n",
    "\n",
    "%as_table results"
   ]
  },
  {
   "cell_type": "markdown",
   "metadata": {},
   "source": [
    "# Removing content\n",
    "\n",
    "Let's us remove some of the documents and re-run the simiarity search."
   ]
  },
  {
   "cell_type": "code",
   "execution_count": 5,
   "metadata": {},
   "outputs": [
    {
     "name": "stdout",
     "output_type": "stream",
     "text": [
      "[2025-06-20 20:45:20] WARNING [langchain_memvid.index.create_index:152] Minimum points required (3000) is too high. Falling back to flat index.\n",
      "[2025-06-20 20:45:20] INFO [langchain_memvid.index.create_index:166] Created faiss index with cosine metric\n",
      "[2025-06-20 20:45:20] INFO [langchain_memvid.index._rebuild_index_without_deleted:431] Rebuilt index with 3 remaining documents\n",
      "[2025-06-20 20:45:20] INFO [langchain_memvid.index.delete_by_ids:366] Deleted 3 documents from index\n",
      "[2025-06-20 20:45:20] INFO [langchain_memvid.encoder.clear:223] Cleared all chunks\n",
      "[2025-06-20 20:45:20] INFO [langchain_memvid.encoder.add_chunks:85] Added 3 chunks for encoding\n",
      "[2025-06-20 20:45:20] WARNING [langchain_memvid.index.create_index:152] Minimum points required (3000) is too high. Falling back to flat index.\n",
      "[2025-06-20 20:45:20] INFO [langchain_memvid.index.create_index:166] Created faiss index with cosine metric\n",
      "[2025-06-20 20:45:20] INFO [langchain_memvid.index.add_texts:182] Embedding 3 texts...\n"
     ]
    },
    {
     "name": "stderr",
     "output_type": "stream",
     "text": [
      "Embedding texts: 100%|██████████| 1/1 [00:00<00:00, 90.75it/s]\n",
      "Deduplicating texts: 100%|██████████| 3/3 [00:00<00:00, 68759.08it/s]\n",
      "Adding vectors to index: 100%|██████████| 1/1 [00:00<00:00, 19878.22it/s]"
     ]
    },
    {
     "name": "stdout",
     "output_type": "stream",
     "text": [
      "[2025-06-20 20:45:20] INFO [langchain_memvid.index.add_texts:298] Added 3 unique texts to index\n"
     ]
    },
    {
     "name": "stderr",
     "output_type": "stream",
     "text": [
      "\n"
     ]
    },
    {
     "name": "stdout",
     "output_type": "stream",
     "text": [
      "[2025-06-20 20:45:20] INFO [langchain_memvid.video.default.encode_video:218] Encoding 3 frames to video...\n"
     ]
    },
    {
     "name": "stderr",
     "output_type": "stream",
     "text": [
      "Preparing frames: 100%|██████████| 3/3 [00:00<00:00, 86.60it/s]\n",
      "Writing video: 100%|██████████| 3/3 [00:00<00:00, 71.33it/s]"
     ]
    },
    {
     "name": "stdout",
     "output_type": "stream",
     "text": [
      "[2025-06-20 20:45:20] INFO [langchain_memvid.video.default.encode_video:239] Video encoded successfully to /home/dawid/github/sarumaj/langchain-memvid/examples/knowledge_base.mp4\n",
      "[2025-06-20 20:45:20] INFO [langchain_memvid.index.save:620] Saved index to /home/dawid/github/sarumaj/langchain-memvid/examples/knowledge_base_index.d\n",
      "[2025-06-20 20:45:20] INFO [langchain_memvid.encoder.build_video:214] Built video with 3 chunks in 0.40s\n",
      "[2025-06-20 20:45:20] INFO [langchain_memvid.index.load:655] Loaded index from /home/dawid/github/sarumaj/langchain-memvid/examples/knowledge_base_index.d\n",
      "[2025-06-20 20:45:20] INFO [langchain_memvid.vectorstore._rebuild_video_after_deletion:528] Rebuilt video with 3 remaining chunks (1.16 MB)\n",
      "[2025-06-20 20:45:20] INFO [langchain_memvid.vectorstore.delete_by_texts:385] Deleted documents with specified texts and rebuilt video\n",
      "[2025-06-20 20:45:20] INFO [langchain_memvid.retriever.model_post_init:72] Initialized retriever with video: /home/dawid/github/sarumaj/langchain-memvid/examples/knowledge_base.mp4\n",
      "[2025-06-20 20:45:20] INFO [langchain_memvid.video.default.decode_video:270] Decoding 3 frames from video...\n"
     ]
    },
    {
     "name": "stderr",
     "output_type": "stream",
     "text": [
      "\n",
      "Decoding video: 100%|██████████| 3/3 [00:00<00:00, 73.21it/s]\n"
     ]
    },
    {
     "name": "stdout",
     "output_type": "stream",
     "text": [
      "[2025-06-20 20:45:20] INFO [langchain_memvid.video.default.decode_video:270] Decoding 3 frames from video...\n"
     ]
    },
    {
     "name": "stderr",
     "output_type": "stream",
     "text": [
      "Decoding video: 100%|██████████| 3/3 [00:00<00:00, 97.99it/s]\n"
     ]
    },
    {
     "name": "stdout",
     "output_type": "stream",
     "text": [
      "[2025-06-20 20:45:21] INFO [langchain_memvid.video.default.decode_video:270] Decoding 3 frames from video...\n"
     ]
    },
    {
     "name": "stderr",
     "output_type": "stream",
     "text": [
      "Decoding video: 100%|██████████| 3/3 [00:00<00:00, 120.98it/s]\n"
     ]
    },
    {
     "data": {
      "text/html": [
       "<table><tr><th style=\"text-align: left\"><b>Query</b></th><th style=\"text-align: left\"><b>Content</b></th><th style=\"text-align: left\"><b>Similarity</b></th><th style=\"text-align: left\"><b>Doc Id</b></th><th style=\"text-align: left\"><b>Metadata Hash</b></th><th style=\"text-align: left\"><b>Metadata Type</b></th><th style=\"text-align: left\"><b>Id</b></th></tr><tr><td style='text-align: left'>Tell me about foxes</td><td style='text-align: left'>A fast orange fox leaps across a sleepy canine</td><td style='text-align: left'>0.5364232063293457</td><td style='text-align: left'>0</td><td style='text-align: left'>4e4f59cc945827d6c948bc8b3c3444310ccfd75b6327320398da67679e8fa377</td><td style='text-align: left'>full</td><td style='text-align: left'>0</td></tr><tr><td style='text-align: left'>Tell me about foxes</td><td style='text-align: left'>It's raining cats and dogs outside</td><td style='text-align: left'>0.1692301332950592</td><td style='text-align: left'>1</td><td style='text-align: left'>0abb9bc36ab7f2333c3beeb4d31ded101372985822d86889675582fdf4f2146c</td><td style='text-align: left'>full</td><td style='text-align: left'>1</td></tr><tr><td style='text-align: left'>What's the weather like?</td><td style='text-align: left'>It's raining cats and dogs outside</td><td style='text-align: left'>0.2783701419830322</td><td style='text-align: left'>1</td><td style='text-align: left'>0abb9bc36ab7f2333c3beeb4d31ded101372985822d86889675582fdf4f2146c</td><td style='text-align: left'>full</td><td style='text-align: left'>1</td></tr><tr><td style='text-align: left'>What's the weather like?</td><td style='text-align: left'>JavaScript is widely used for web development</td><td style='text-align: left'>0.01637135073542595</td><td style='text-align: left'>2</td><td style='text-align: left'>344481724d49bdeabfcafc11cdbbbe09c2e618f9f483793927ab2dbcb8607edc</td><td style='text-align: left'>full</td><td style='text-align: left'>2</td></tr><tr><td style='text-align: left'>What programming languages are mentioned?</td><td style='text-align: left'>JavaScript is widely used for web development</td><td style='text-align: left'>0.4239957928657532</td><td style='text-align: left'>2</td><td style='text-align: left'>344481724d49bdeabfcafc11cdbbbe09c2e618f9f483793927ab2dbcb8607edc</td><td style='text-align: left'>full</td><td style='text-align: left'>2</td></tr><tr><td style='text-align: left'>What programming languages are mentioned?</td><td style='text-align: left'>It's raining cats and dogs outside</td><td style='text-align: left'>0.08167414367198944</td><td style='text-align: left'>1</td><td style='text-align: left'>0abb9bc36ab7f2333c3beeb4d31ded101372985822d86889675582fdf4f2146c</td><td style='text-align: left'>full</td><td style='text-align: left'>1</td></tr></table>"
      ],
      "text/plain": [
       "<IPython.core.display.HTML object>"
      ]
     },
     "metadata": {},
     "output_type": "display_data"
    }
   ],
   "source": [
    "# Remove every second document\n",
    "vs.delete_by_texts(texts[::2])\n",
    "\n",
    "# Re-run the similarity search\n",
    "results = [\n",
    "    {\n",
    "        \"query\": query,\n",
    "        \"content\": doc.page_content,\n",
    "        **{k: v for k, v in doc.metadata.items() if k != \"text\" and v is not None}\n",
    "    }\n",
    "    for query in queries\n",
    "    for doc in vs.similarity_search(query, k=2, include_full_metadata=True)\n",
    "]\n",
    "\n",
    "%as_table results\n"
   ]
  },
  {
   "cell_type": "markdown",
   "metadata": {},
   "source": [
    "## Cleanup\n",
    "\n",
    "Finally, we'll clean up our temporary files (video and index) to free up disk space."
   ]
  },
  {
   "cell_type": "code",
   "execution_count": 6,
   "metadata": {},
   "outputs": [
    {
     "data": {
      "text/html": [
       "<div style='color: orange'><b>Cleaned up:</b><table><tr><th style=\"text-align: left\"><b>Name</b></th><th style=\"text-align: left\"><b>Type</b></th><th style=\"text-align: left\"><b>Object</b></th></tr><tr><td style=\"text-align: left\">knowledge_base_file</td><td style=\"text-align: left\">PosixPath</td><td style=\"text-align: left\">knowledge_base.mp4</td></tr><tr><td style=\"text-align: left\">knowledge_base_index_dir</td><td style=\"text-align: left\">PosixPath</td><td style=\"text-align: left\">knowledge_base_index.d</td></tr></table></div>"
      ],
      "text/plain": [
       "<IPython.core.display.HTML object>"
      ]
     },
     "metadata": {},
     "output_type": "display_data"
    },
    {
     "data": {
      "text/html": [
       "<div style='color: green'><b>Dumped cells [1, 2, 3, 4, 5, 6, 7, 8, 9, 10] from quickstart.ipynb to quickstart.py.</b></div>"
      ],
      "text/plain": [
       "<IPython.core.display.HTML object>"
      ]
     },
     "metadata": {},
     "output_type": "display_data"
    }
   ],
   "source": [
    "%cleanup -f\n",
    "%dump -f -r :-2"
   ]
  }
 ],
 "metadata": {
  "kernelspec": {
   "display_name": ".venv",
   "language": "python",
   "name": "python3"
  },
  "language_info": {
   "codemirror_mode": {
    "name": "ipython",
    "version": 3
   },
   "file_extension": ".py",
   "mimetype": "text/x-python",
   "name": "python",
   "nbconvert_exporter": "python",
   "pygments_lexer": "ipython3",
   "version": "3.12.3"
  }
 },
 "nbformat": 4,
 "nbformat_minor": 4
}
