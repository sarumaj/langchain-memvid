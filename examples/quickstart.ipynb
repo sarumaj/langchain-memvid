{
 "cells": [
  {
   "cell_type": "markdown",
   "metadata": {},
   "source": [
    "# LangChain MemVid Quick Start Guide\n",
    "\n",
    "This notebook demonstrates the basic usage of the LangChain MemVid library, which allows you to store and retrieve text data using video files as a storage medium."
   ]
  },
  {
   "cell_type": "code",
   "execution_count": 1,
   "metadata": {},
   "outputs": [
    {
     "data": {
      "text/html": [
       "<div style='color: green'><b>Successfully loaded langchain_memvid IPython extension.</b></div>"
      ],
      "text/plain": [
       "<IPython.core.display.HTML object>"
      ]
     },
     "metadata": {},
     "output_type": "display_data"
    },
    {
     "data": {
      "text/html": [
       "<div style='color: green'><b>Jupyter kernel restarted.</b></div>"
      ],
      "text/plain": [
       "<IPython.core.display.HTML object>"
      ]
     },
     "metadata": {},
     "output_type": "display_data"
    },
    {
     "data": {
      "text/html": [
       "<div style='color: green'><b>Set sound theme to pokemon.</b></div>"
      ],
      "text/plain": [
       "<IPython.core.display.HTML object>"
      ]
     },
     "metadata": {},
     "output_type": "display_data"
    }
   ],
   "source": [
    "%pip install -e ..\n",
    "%load_ext ipykernel_memvid_extension\n",
    "%restart_kernel -f\n",
    "%set_sound_theme pokemon"
   ]
  },
  {
   "cell_type": "markdown",
   "metadata": {},
   "source": [
    "## Setup and Imports\n",
    "\n",
    "First, we'll install the required dependencies and import the necessary modules. The main components we need are:\n",
    "- `langchain-huggingface` for embeddings\n",
    "- `sentence-transformers` for the underlying embedding model\n",
    "- `VectorStore` from langchain_memvid for our main functionality"
   ]
  },
  {
   "cell_type": "code",
   "execution_count": 2,
   "metadata": {},
   "outputs": [
    {
     "data": {
      "text/html": [
       "<div style='color: green'><p><b>Installed:</b></p><table><tr><th style=\"text-align: left\"><b>Package</b></th><th style=\"text-align: left\"><b>Version</b></th></tr><tr><td style=\"text-align: left\">langchain-huggingface</td><td style=\"text-align: left\">0.3.0</td></tr><tr><td style=\"text-align: left\">sentence-transformers</td><td style=\"text-align: left\">4.1.0</td></tr></table></div>"
      ],
      "text/plain": [
       "<IPython.core.display.HTML object>"
      ]
     },
     "metadata": {},
     "output_type": "display_data"
    }
   ],
   "source": [
    "%pip_install langchain-huggingface sentence-transformers ;\n",
    "\n",
    "from langchain_huggingface import HuggingFaceEmbeddings\n",
    "from pathlib import Path\n",
    "\n",
    "from langchain_memvid import VectorStore"
   ]
  },
  {
   "cell_type": "markdown",
   "metadata": {},
   "source": [
    "## Creating a Vector Store\n",
    "\n",
    "Now we'll create a vector store with some example data. We'll:\n",
    "1. Define paths for storing the video and index files\n",
    "2. Initialize the embedding model\n",
    "3. Create sample text data with metadata\n",
    "4. Build the vector store from our texts\n",
    "\n",
    "Note: The metadata helps organize and filter our data, associating each text with a source, category, and ID."
   ]
  },
  {
   "cell_type": "code",
   "execution_count": 3,
   "metadata": {},
   "outputs": [
    {
     "name": "stdout",
     "output_type": "stream",
     "text": [
      "[2025-06-19 17:26:15] INFO [langchain_memvid.encoder.add_chunks:91] Added 6 chunks for encoding\n",
      "[2025-06-19 17:26:15] WARNING [langchain_memvid.index.create_index:115] Minimum points required (3000) is too high. Falling back to flat index.\n",
      "[2025-06-19 17:26:15] INFO [langchain_memvid.index.create_index:129] Created faiss index with cosine metric\n",
      "[2025-06-19 17:26:15] INFO [langchain_memvid.index.add_texts:153] Embedding 6 texts...\n"
     ]
    },
    {
     "name": "stderr",
     "output_type": "stream",
     "text": [
      "Embedding texts: 100%|██████████| 1/1 [00:00<00:00, 82.90it/s]\n",
      "Deduplicating texts: 100%|██████████| 6/6 [00:00<00:00, 87992.39it/s]\n",
      "Adding vectors to index: 100%|██████████| 1/1 [00:00<00:00, 10699.76it/s]"
     ]
    },
    {
     "name": "stdout",
     "output_type": "stream",
     "text": [
      "[2025-06-19 17:26:15] INFO [langchain_memvid.index.add_texts:250] Added 6 unique texts to index\n"
     ]
    },
    {
     "name": "stderr",
     "output_type": "stream",
     "text": [
      "\n"
     ]
    },
    {
     "name": "stdout",
     "output_type": "stream",
     "text": [
      "[2025-06-19 17:26:16] INFO [langchain_memvid.video.encode_video:214] Encoding 6 frames to video...\n"
     ]
    },
    {
     "name": "stderr",
     "output_type": "stream",
     "text": [
      "Preparing frames: 100%|██████████| 6/6 [00:00<00:00, 108.74it/s]\n",
      "Writing video: 100%|██████████| 6/6 [00:00<00:00, 82.14it/s]"
     ]
    },
    {
     "name": "stdout",
     "output_type": "stream",
     "text": [
      "[2025-06-19 17:26:16] INFO [langchain_memvid.video.encode_video:235] Video encoded successfully to /home/dawid/github/sarumaj/langchain-memvid/examples/knowledge_base.mp4\n",
      "[2025-06-19 17:26:16] INFO [langchain_memvid.index.save:337] Saved index to /home/dawid/github/sarumaj/langchain-memvid/examples/knowledge_base_index.d\n",
      "[2025-06-19 17:26:16] INFO [langchain_memvid.encoder.build_video:171] Built video with 6 chunks in 0.96s\n",
      "[2025-06-19 17:26:16] INFO [langchain_memvid.index.load:372] Loaded index from /home/dawid/github/sarumaj/langchain-memvid/examples/knowledge_base_index.d\n",
      "[2025-06-19 17:26:16] INFO [langchain_memvid.vectorstore.add_texts:186] Built video with 6 chunks (1.84 MB)\n"
     ]
    },
    {
     "name": "stderr",
     "output_type": "stream",
     "text": [
      "\n"
     ]
    }
   ],
   "source": [
    "# Paths to store the video and index files\n",
    "knowledge_base_file = Path(\"knowledge_base.mp4\")\n",
    "knowledge_base_index_dir = Path(\"knowledge_base_index.d\")\n",
    "\n",
    "# Embedding model\n",
    "embedding = HuggingFaceEmbeddings()\n",
    "\n",
    "# Example text chunks\n",
    "texts = [\n",
    "    \"The quick brown fox jumps over the lazy dog\",\n",
    "    \"A fast orange fox leaps across a sleepy canine\",\n",
    "    \"The weather is beautiful today\",\n",
    "    \"It's raining cats and dogs outside\",\n",
    "    \"Python is a popular programming language\",\n",
    "    \"JavaScript is widely used for web development\"\n",
    "]\n",
    "\n",
    "# Example metadata for each text\n",
    "metadata = [\n",
    "    {\"id\": 0, \"source\": \"example1.txt\", \"category\": \"animals\"},\n",
    "    {\"id\": 1, \"source\": \"example1.txt\", \"category\": \"animals\"},\n",
    "    {\"id\": 2, \"source\": \"example2.txt\", \"category\": \"weather\"},\n",
    "    {\"id\": 3, \"source\": \"example2.txt\", \"category\": \"weather\"},\n",
    "    {\"id\": 4, \"source\": \"example3.txt\", \"category\": \"programming\"},\n",
    "    {\"id\": 5, \"source\": \"example3.txt\", \"category\": \"programming\"}\n",
    "]\n",
    "\n",
    "# Create vector store\n",
    "vs = VectorStore.from_texts(\n",
    "    texts=texts,\n",
    "    embedding=embedding,\n",
    "    video_file=knowledge_base_file,\n",
    "    index_dir=knowledge_base_index_dir,\n",
    "    metadatas=metadata,\n",
    ")"
   ]
  },
  {
   "cell_type": "markdown",
   "metadata": {},
   "source": [
    "## Performing Similarity Searches\n",
    "\n",
    "Let's test our vector store by performing similarity searches. We'll try different queries to see how well the system retrieves relevant information. The search will return the most similar texts along with their metadata and similarity scores."
   ]
  },
  {
   "cell_type": "code",
   "execution_count": 4,
   "metadata": {},
   "outputs": [
    {
     "name": "stdout",
     "output_type": "stream",
     "text": [
      "[2025-06-19 17:26:20] INFO [langchain_memvid.retriever.model_post_init:66] Initialized retriever with video: /home/dawid/github/sarumaj/langchain-memvid/examples/knowledge_base.mp4\n"
     ]
    },
    {
     "data": {
      "text/html": [
       "<table><tr><th style=\"text-align: left\"><b>Query</b></th><th style=\"text-align: left\"><b>Content</b></th><th style=\"text-align: left\"><b>Source</b></th><th style=\"text-align: left\"><b>Category</b></th><th style=\"text-align: left\"><b>Similarity</b></th><th style=\"text-align: left\"><b>Id</b></th></tr><tr><td style='text-align: left'>Tell me about foxes</td><td style='text-align: left'>The quick brown fox jumps over the lazy dog</td><td style='text-align: left'>example1.txt</td><td style='text-align: left'>animals</td><td style='text-align: left'>0.5380151271820068</td><td style='text-align: left'>0</td></tr><tr><td style='text-align: left'>Tell me about foxes</td><td style='text-align: left'>A fast orange fox leaps across a sleepy canine</td><td style='text-align: left'>example1.txt</td><td style='text-align: left'>animals</td><td style='text-align: left'>0.5364233255386353</td><td style='text-align: left'>1</td></tr><tr><td style='text-align: left'>What's the weather like?</td><td style='text-align: left'>The weather is beautiful today</td><td style='text-align: left'>example2.txt</td><td style='text-align: left'>weather</td><td style='text-align: left'>0.47028934955596924</td><td style='text-align: left'>2</td></tr><tr><td style='text-align: left'>What's the weather like?</td><td style='text-align: left'>It's raining cats and dogs outside</td><td style='text-align: left'>example2.txt</td><td style='text-align: left'>weather</td><td style='text-align: left'>0.27837008237838745</td><td style='text-align: left'>3</td></tr><tr><td style='text-align: left'>What programming languages are mentioned?</td><td style='text-align: left'>Python is a popular programming language</td><td style='text-align: left'>example3.txt</td><td style='text-align: left'>programming</td><td style='text-align: left'>0.5954955816268921</td><td style='text-align: left'>4</td></tr><tr><td style='text-align: left'>What programming languages are mentioned?</td><td style='text-align: left'>JavaScript is widely used for web development</td><td style='text-align: left'>example3.txt</td><td style='text-align: left'>programming</td><td style='text-align: left'>0.42399585247039795</td><td style='text-align: left'>5</td></tr></table>"
      ],
      "text/plain": [
       "<IPython.core.display.HTML object>"
      ]
     },
     "metadata": {},
     "output_type": "display_data"
    }
   ],
   "source": [
    "# Example searches\n",
    "queries = [\n",
    "    \"Tell me about foxes\",\n",
    "    \"What's the weather like?\",\n",
    "    \"What programming languages are mentioned?\"\n",
    "]\n",
    "\n",
    "results = [\n",
    "    {\n",
    "        \"query\": query,\n",
    "        \"content\": doc.page_content,\n",
    "        **{k: v for k, v in doc.metadata.items() if k != \"text\"}\n",
    "    }\n",
    "    for query in queries\n",
    "    for doc in vs.similarity_search(query, k=2)\n",
    "]\n",
    "\n",
    "%as_table results"
   ]
  },
  {
   "cell_type": "markdown",
   "metadata": {},
   "source": [
    "## Cleanup\n",
    "\n",
    "Finally, we'll clean up our temporary files (video and index) to free up disk space."
   ]
  },
  {
   "cell_type": "code",
   "execution_count": 5,
   "metadata": {},
   "outputs": [
    {
     "data": {
      "text/html": [
       "<div style='color: orange'><b>Cleaned up:</b><table><tr><th style=\"text-align: left\"><b>Name</b></th><th style=\"text-align: left\"><b>Type</b></th><th style=\"text-align: left\"><b>Object</b></th></tr><tr><td style=\"text-align: left\">knowledge_base_file</td><td style=\"text-align: left\">PosixPath</td><td style=\"text-align: left\">knowledge_base.mp4</td></tr><tr><td style=\"text-align: left\">knowledge_base_index_dir</td><td style=\"text-align: left\">PosixPath</td><td style=\"text-align: left\">knowledge_base_index.d</td></tr></table></div>"
      ],
      "text/plain": [
       "<IPython.core.display.HTML object>"
      ]
     },
     "metadata": {},
     "output_type": "display_data"
    }
   ],
   "source": [
    "%cleanup -f"
   ]
  }
 ],
 "metadata": {
  "kernelspec": {
   "display_name": ".venv",
   "language": "python",
   "name": "python3"
  },
  "language_info": {
   "codemirror_mode": {
    "name": "ipython",
    "version": 3
   },
   "file_extension": ".py",
   "mimetype": "text/x-python",
   "name": "python",
   "nbconvert_exporter": "python",
   "pygments_lexer": "ipython3",
   "version": "3.12.3"
  }
 },
 "nbformat": 4,
 "nbformat_minor": 2
}
