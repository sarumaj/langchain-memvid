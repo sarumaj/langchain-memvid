{
 "cells": [
  {
   "cell_type": "code",
   "execution_count": 1,
   "metadata": {},
   "outputs": [],
   "source": [
    "from IPython.display import clear_output\n",
    "\n",
    "%pip install langchain-huggingface sentence-transformers ipywidgets\n",
    "%pip install -e ..[all]\n",
    "clear_output(wait=True)\n",
    "\n",
    "from langchain_huggingface import HuggingFaceEmbeddings\n",
    "\n",
    "from langchain_memvid.index import IndexManager, IndexConfig\n",
    "from langchain_memvid.retriever import Retriever, RetrieverConfig\n",
    "from langchain_memvid.encoder import Encoder, EncoderConfig"
   ]
  },
  {
   "cell_type": "code",
   "execution_count": 2,
   "metadata": {},
   "outputs": [
    {
     "data": {
      "text/plain": [
       "[(0,\n",
       "  1.6266311407089233,\n",
       "  {'id': 0, 'text': 'text chunk 1', 'frame': 1, 'length': 12}),\n",
       " (1,\n",
       "  1.6356446743011475,\n",
       "  {'id': 1, 'text': 'text chunk 2', 'frame': 2, 'length': 12})]"
      ]
     },
     "execution_count": 2,
     "metadata": {},
     "output_type": "execute_result"
    }
   ],
   "source": [
    "# Initialize\n",
    "config = IndexConfig(index_type=\"Flat\")\n",
    "embeddings = HuggingFaceEmbeddings()\n",
    "index_manager = IndexManager(config=config, embeddings=embeddings)\n",
    "\n",
    "# Add chunks\n",
    "chunks = [\"text chunk 1\", \"text chunk 2\"]\n",
    "frame_numbers = [1, 2]\n",
    "chunk_ids = index_manager.add_chunks(chunks, frame_numbers)\n",
    "\n",
    "# Search\n",
    "results = index_manager.search(\"query\", top_k=5)\n",
    "results"
   ]
  },
  {
   "cell_type": "code",
   "execution_count": 3,
   "metadata": {},
   "outputs": [
    {
     "name": "stderr",
     "output_type": "stream",
     "text": [
      "Generating QR codes: 100%|██████████| 3/3 [00:00<00:00, 56.91it/s]\n",
      "/home/dawid/github/sarumaj/langchain_memvid/src/langchain_memvid/encoder.py:640: UserWarning: h265 encoding failed: Invalid suffix 'mkv'. Falling back to MP4V.\n",
      "  warnings.warn(f\"{codec} encoding failed: {e}. Falling back to MP4V.\", UserWarning)\n",
      "Writing video frames:   0%|          | 0/3 [00:00<?, ?it/s]\n"
     ]
    },
    {
     "data": {
      "text/plain": [
       "EncodingStats(backend='opencv', codec='mp4v', total_frames=3, video_size_mb=4.1961669921875e-05, fps=15, duration_seconds=0.2, total_chunks=3, video_file='output.mp4', index_file='index.json', index_stats={'total_chunks': 5, 'total_frames': 3, 'index_type': 'Flat', 'embedding_model': 'sentence-transformers/all-mpnet-base-v2', 'dimension': 768, 'avg_chunks_per_frame': np.float64(1.6666666666666667), 'config': {'index_type': 'Flat', 'nlist': 100, 'serialization_format': 'msgpack'}}, encoding_time=0.012622594833374023)"
      ]
     },
     "execution_count": 3,
     "metadata": {},
     "output_type": "execute_result"
    }
   ],
   "source": [
    "enc_cfg = EncoderConfig()\n",
    "encoder = Encoder(enc_cfg, index_manager)\n",
    "chunks = [\"Important fact 1\", \"Important fact 2\", \"Historical event details\"]\n",
    "encoder.add_chunks(chunks)\n",
    "\n",
    "encoder.build_video(\n",
    "    output_file=\"output.mp4\",\n",
    "    index_file=\"index.json\"\n",
    ")"
   ]
  },
  {
   "cell_type": "code",
   "execution_count": 4,
   "metadata": {},
   "outputs": [
    {
     "data": {
      "text/plain": [
       "[{'text': 'text chunk 1',\n",
       "  'score': 0.3538665534668246,\n",
       "  'chunk_id': 0,\n",
       "  'frame': 1,\n",
       "  'metadata': {'id': 0, 'text': 'text chunk 1', 'frame': 1, 'length': 12}},\n",
       " {'text': 'text chunk 2',\n",
       "  'score': 0.3532919852753452,\n",
       "  'chunk_id': 1,\n",
       "  'frame': 2,\n",
       "  'metadata': {'id': 1, 'text': 'text chunk 2', 'frame': 2, 'length': 12}},\n",
       " {'text': 'Important fact 1',\n",
       "  'score': 0.34883424908162153,\n",
       "  'chunk_id': 2,\n",
       "  'frame': 0,\n",
       "  'metadata': {'id': 2, 'text': 'Important fact 1', 'frame': 0, 'length': 16}}]"
      ]
     },
     "execution_count": 4,
     "metadata": {},
     "output_type": "execute_result"
    }
   ],
   "source": [
    "ret_cfg = RetrieverConfig()\n",
    "retriever = Retriever(\"output.mp4\", \"index.json\", ret_cfg, index_manager)\n",
    "results = retriever.search_with_metadata(\"machine learning algorithms\", top_k=3)\n",
    "results"
   ]
  }
 ],
 "metadata": {
  "kernelspec": {
   "display_name": ".venv",
   "language": "python",
   "name": "python3"
  },
  "language_info": {
   "codemirror_mode": {
    "name": "ipython",
    "version": 3
   },
   "file_extension": ".py",
   "mimetype": "text/x-python",
   "name": "python",
   "nbconvert_exporter": "python",
   "pygments_lexer": "ipython3",
   "version": "3.12.3"
  }
 },
 "nbformat": 4,
 "nbformat_minor": 2
}
