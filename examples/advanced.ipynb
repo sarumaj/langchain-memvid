{
 "cells": [
  {
   "cell_type": "code",
   "execution_count": 1,
   "metadata": {},
   "outputs": [],
   "source": [
    "from IPython.display import clear_output\n",
    "\n",
    "%pip install langchain-huggingface sentence-transformers ipywidgets\n",
    "%pip install -e ..[all]\n",
    "clear_output()\n",
    "\n",
    "from langchain_huggingface import HuggingFaceEmbeddings\n",
    "\n",
    "from langchain_memvid import IndexManager, IndexConfig"
   ]
  },
  {
   "cell_type": "code",
   "execution_count": 2,
   "metadata": {},
   "outputs": [],
   "source": [
    "# Create index configuration\n",
    "config = IndexConfig(\n",
    "    index_type=\"faiss\",\n",
    "    metric=\"cosine\",\n",
    "    nlist=6  # Number of clusters for IVF index\n",
    ")\n",
    "\n",
    "# Initialize Embeddings\n",
    "embeddings = HuggingFaceEmbeddings()\n",
    "\n",
    "# Create index manager\n",
    "index_manager = IndexManager(config=config, embeddings=embeddings)\n",
    "\n",
    "# Example text chunks\n",
    "texts = [\n",
    "    \"The quick brown fox jumps over the lazy dog\",\n",
    "    \"A fast orange fox leaps across a sleepy canine\",\n",
    "    \"The weather is beautiful today\",\n",
    "    \"It's raining cats and dogs outside\",\n",
    "    \"Python is a popular programming language\",\n",
    "    \"JavaScript is widely used for web development\"\n",
    "]\n",
    "\n",
    "# Example metadata for each text\n",
    "metadata = [\n",
    "    {\"id\": 0, \"source\": \"example1.txt\", \"category\": \"animals\"},\n",
    "    {\"id\": 1, \"source\": \"example1.txt\", \"category\": \"animals\"},\n",
    "    {\"id\": 2, \"source\": \"example2.txt\", \"category\": \"weather\"},\n",
    "    {\"id\": 3, \"source\": \"example2.txt\", \"category\": \"weather\"},\n",
    "    {\"id\": 4, \"source\": \"example3.txt\", \"category\": \"programming\"},\n",
    "    {\"id\": 5, \"source\": \"example3.txt\", \"category\": \"programming\"}\n",
    "]\n",
    "\n",
    "# Add texts with metadata\n",
    "# The index will be created automatically with the correct dimension\n",
    "# and trained if using an IVF index\n",
    "index_manager.add_texts(texts, metadata)"
   ]
  },
  {
   "cell_type": "code",
   "execution_count": 3,
   "metadata": {},
   "outputs": [
    {
     "name": "stdout",
     "output_type": "stream",
     "text": [
      "\n",
      "Searching the index:\n",
      "--------------------------------------------------\n",
      "\n",
      "Query: Tell me about foxes\n",
      "Results:\n",
      "- Text: The quick brown fox jumps over the lazy dog\n",
      "  Source: example1.txt\n",
      "  Category: animals\n",
      "  Similarity: 0.5380\n",
      "\n",
      "Query: What's the weather like?\n",
      "Results:\n",
      "- Text: The weather is beautiful today\n",
      "  Source: example2.txt\n",
      "  Category: weather\n",
      "  Similarity: 0.4703\n",
      "\n",
      "Query: What programming languages are mentioned?\n",
      "Results:\n",
      "- Text: Python is a popular programming language\n",
      "  Source: example3.txt\n",
      "  Category: programming\n",
      "  Similarity: 0.5955\n"
     ]
    }
   ],
   "source": [
    "# Example searches\n",
    "queries = [\n",
    "    \"Tell me about foxes\",\n",
    "    \"What's the weather like?\",\n",
    "    \"What programming languages are mentioned?\"\n",
    "]\n",
    "\n",
    "print(\"\\nSearching the index:\")\n",
    "print(\"-\" * 50)\n",
    "\n",
    "for query in queries:\n",
    "    print(f\"\\nQuery: {query}\")\n",
    "    results = index_manager.search_text(query, k=1)\n",
    "\n",
    "    print(\"Results:\")\n",
    "    for result in results:\n",
    "        print(f\"- Text: {result.text}\")\n",
    "        print(f\"  Source: {result.source}\")\n",
    "        print(f\"  Category: {result.category}\")\n",
    "        print(f\"  Similarity: {result.similarity:.4f}\")"
   ]
  },
  {
   "cell_type": "code",
   "execution_count": 4,
   "metadata": {},
   "outputs": [],
   "source": [
    "from pathlib import Path\n",
    "from langchain_memvid.video import VideoProcessor\n",
    "from langchain_memvid.config import VideoConfig, QRCodeConfig"
   ]
  },
  {
   "cell_type": "code",
   "execution_count": 5,
   "metadata": {},
   "outputs": [
    {
     "data": {
      "text/plain": [
       "['test']"
      ]
     },
     "execution_count": 5,
     "metadata": {},
     "output_type": "execute_result"
    }
   ],
   "source": [
    "video_config = VideoConfig(\n",
    "    fps=30,\n",
    "    resolution=(1920, 1080),\n",
    "    codec=\"mp4v\",\n",
    ")\n",
    "\n",
    "qrcode_config = QRCodeConfig(\n",
    "    error_correction=\"H\",\n",
    "    box_size=10,\n",
    "    border=4\n",
    ")\n",
    "\n",
    "video_processor = VideoProcessor(\n",
    "    video_config=video_config,\n",
    "    qrcode_config=qrcode_config\n",
    ")\n",
    "\n",
    "# Create a simple test image\n",
    "image = video_processor.create_qr_code(\"test\")\n",
    "\n",
    "# Encode the image into a video\n",
    "video_processor.encode_video(\n",
    "    frames=[image],\n",
    "    output_path=\"test_video.mp4\"\n",
    ")\n",
    "\n",
    "frames = video_processor.decode_video(Path(\"test_video.mp4\"))\n",
    "\n",
    "decoded_data = []\n",
    "for frame in frames:\n",
    "    decoded_data.extend(video_processor.extract_qr_codes(frame))\n",
    "\n",
    "Path(\"test_video.mp4\").unlink()\n",
    "decoded_data"
   ]
  },
  {
   "cell_type": "code",
   "execution_count": 6,
   "metadata": {},
   "outputs": [],
   "source": [
    "from langchain_memvid.encoder import Encoder\n",
    "from langchain_memvid.config import VectorStoreConfig"
   ]
  },
  {
   "cell_type": "code",
   "execution_count": 7,
   "metadata": {},
   "outputs": [
    {
     "data": {
      "text/plain": [
       "['test']"
      ]
     },
     "execution_count": 7,
     "metadata": {},
     "output_type": "execute_result"
    }
   ],
   "source": [
    "video_config = VideoConfig(\n",
    "    fps=30,\n",
    "    resolution=(1920, 1080),\n",
    "    codec=\"mp4v\",\n",
    ")\n",
    "\n",
    "qrcode_config = QRCodeConfig(\n",
    "    error_correction=\"H\",\n",
    "    box_size=10,\n",
    "    border=4\n",
    ")\n",
    "\n",
    "video_processor = VideoProcessor(\n",
    "    video_config=video_config,\n",
    "    qrcode_config=qrcode_config\n",
    ")\n",
    "\n",
    "# Create a simple test image\n",
    "image = video_processor.create_qr_code(\"test\")\n",
    "\n",
    "video_path = Path(\"test_video.mp4\")\n",
    "\n",
    "# Encode the image into a video\n",
    "video_processor.encode_video(\n",
    "    frames=[image],\n",
    "    output_path=video_path\n",
    ")\n",
    "\n",
    "frames = video_processor.decode_video(video_path)\n",
    "\n",
    "decoded_data = []\n",
    "for frame in frames:\n",
    "    decoded_data.extend(video_processor.extract_qr_codes(frame))\n",
    "\n",
    "paths_to_cleanup = {video_path}\n",
    "decoded_data"
   ]
  },
  {
   "cell_type": "code",
   "execution_count": 8,
   "metadata": {},
   "outputs": [
    {
     "data": {
      "text/plain": [
       "BuildStats(total_chunks=6, video_size_mb=1.0301399230957031, encoding_time=0.20061659812927246, index_path=PosixPath('test_index.d'), video_path=PosixPath('test_video.mp4'))"
      ]
     },
     "execution_count": 8,
     "metadata": {},
     "output_type": "execute_result"
    }
   ],
   "source": [
    "cfg = VectorStoreConfig(\n",
    "    video=video_config,\n",
    "    qrcode=qrcode_config\n",
    ")\n",
    "\n",
    "encoder = Encoder(config=cfg, index_manager=index_manager)\n",
    "encoder.add_chunks(texts, metadata)\n",
    "\n",
    "stats = encoder.build_video(Path(\"test_video.mp4\"), Path(\"test_index.d\"))\n",
    "paths_to_cleanup.add(stats.video_path)\n",
    "paths_to_cleanup.add(stats.index_path)\n",
    "stats"
   ]
  },
  {
   "cell_type": "code",
   "execution_count": 9,
   "metadata": {},
   "outputs": [
    {
     "name": "stdout",
     "output_type": "stream",
     "text": [
      "\n",
      "Retrieving documents:\n",
      "--------------------------------------------------\n",
      "\n",
      "Query: Tell me about foxes\n",
      "Results:\n",
      "- Text: The quick brown fox jumps over the lazy dog\n",
      "  Metadata: {'source': 'example1.txt', 'category': 'animals', 'similarity': 0.5380151271820068, 'id': 0, 'text': 'The quick brown fox jumps over the lazy dog'}\n",
      "- Text: A fast orange fox leaps across a sleepy canine\n",
      "  Metadata: {'source': 'example1.txt', 'category': 'animals', 'similarity': 0.5364233255386353, 'id': 1, 'text': 'A fast orange fox leaps across a sleepy canine'}\n",
      "\n",
      "Query: What's the weather like?\n",
      "Results:\n",
      "- Text: The weather is beautiful today\n",
      "  Metadata: {'source': 'example2.txt', 'category': 'weather', 'similarity': 0.47028934955596924, 'id': 2, 'text': 'The weather is beautiful today'}\n",
      "- Text: It's raining cats and dogs outside\n",
      "  Metadata: {'source': 'example2.txt', 'category': 'weather', 'similarity': 0.27837008237838745, 'id': 3, 'text': \"It's raining cats and dogs outside\"}\n",
      "\n",
      "Query: What programming languages are mentioned?\n",
      "Results:\n",
      "- Text: Python is a popular programming language\n",
      "  Metadata: {'source': 'example3.txt', 'category': 'programming', 'similarity': 0.5954955816268921, 'id': 4, 'text': 'Python is a popular programming language'}\n",
      "- Text: JavaScript is widely used for web development\n",
      "  Metadata: {'source': 'example3.txt', 'category': 'programming', 'similarity': 0.42399585247039795, 'id': 5, 'text': 'JavaScript is widely used for web development'}\n"
     ]
    }
   ],
   "source": [
    "from langchain_memvid.retriever import Retriever\n",
    "\n",
    "retriever = Retriever(\n",
    "    video_file=\"test_video.mp4\",\n",
    "    index_file=\"test_index.d\",\n",
    "    config=cfg,\n",
    "    index_manager=index_manager,\n",
    "    k=2,\n",
    ")\n",
    "\n",
    "# Example searches\n",
    "queries = [\n",
    "    \"Tell me about foxes\",\n",
    "    \"What's the weather like?\",\n",
    "    \"What programming languages are mentioned?\"\n",
    "]\n",
    "\n",
    "print(\"\\nRetrieving documents:\")\n",
    "print(\"-\" * 50)\n",
    "\n",
    "for query in queries:\n",
    "    print(f\"\\nQuery: {query}\")\n",
    "    result = retriever.retrieve(query)\n",
    "\n",
    "    print(\"Results:\")\n",
    "    for doc in result:\n",
    "        print(f\"- Text: {doc.page_content}\")\n",
    "        print(f\"  Metadata: {doc.metadata}\")"
   ]
  },
  {
   "cell_type": "code",
   "execution_count": 10,
   "metadata": {},
   "outputs": [],
   "source": [
    "from shutil import rmtree\n",
    "\n",
    "for path in paths_to_cleanup:\n",
    "    if path.is_file():\n",
    "        path.unlink()\n",
    "    else:\n",
    "        rmtree(path)"
   ]
  }
 ],
 "metadata": {
  "kernelspec": {
   "display_name": ".venv",
   "language": "python",
   "name": "python3"
  },
  "language_info": {
   "codemirror_mode": {
    "name": "ipython",
    "version": 3
   },
   "file_extension": ".py",
   "mimetype": "text/x-python",
   "name": "python",
   "nbconvert_exporter": "python",
   "pygments_lexer": "ipython3",
   "version": "3.12.3"
  }
 },
 "nbformat": 4,
 "nbformat_minor": 2
}
