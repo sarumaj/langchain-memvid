{
 "cells": [
  {
   "cell_type": "code",
   "execution_count": 1,
   "metadata": {},
   "outputs": [
    {
     "ename": "ImportError",
     "evalue": "cannot import name 'VideoProcessor' from 'langchain_memvid' (/home/dawid/github/sarumaj/langchain_memvid/src/langchain_memvid/__init__.py)",
     "output_type": "error",
     "traceback": [
      "\u001b[31m---------------------------------------------------------------------------\u001b[39m",
      "\u001b[31mImportError\u001b[39m                               Traceback (most recent call last)",
      "\u001b[36mCell\u001b[39m\u001b[36m \u001b[39m\u001b[32mIn[1]\u001b[39m\u001b[32m, line 29\u001b[39m\n\u001b[32m     26\u001b[39m gc = GarbageCollector()\n\u001b[32m     28\u001b[39m \u001b[38;5;28;01mfrom\u001b[39;00m\u001b[38;5;250m \u001b[39m\u001b[34;01mlangchain_memvid\u001b[39;00m\u001b[38;5;250m \u001b[39m\u001b[38;5;28;01mimport\u001b[39;00m IndexManager, IndexConfig\n\u001b[32m---> \u001b[39m\u001b[32m29\u001b[39m \u001b[38;5;28;01mfrom\u001b[39;00m\u001b[38;5;250m \u001b[39m\u001b[34;01mlangchain_memvid\u001b[39;00m\u001b[38;5;250m \u001b[39m\u001b[38;5;28;01mimport\u001b[39;00m VideoProcessor\n\u001b[32m     30\u001b[39m \u001b[38;5;28;01mfrom\u001b[39;00m\u001b[38;5;250m \u001b[39m\u001b[34;01mlangchain_memvid\u001b[39;00m\u001b[38;5;250m \u001b[39m\u001b[38;5;28;01mimport\u001b[39;00m VideoConfig, QRCodeConfig\n\u001b[32m     31\u001b[39m \u001b[38;5;28;01mfrom\u001b[39;00m\u001b[38;5;250m \u001b[39m\u001b[34;01mlangchain_memvid\u001b[39;00m\u001b[38;5;250m \u001b[39m\u001b[38;5;28;01mimport\u001b[39;00m Encoder\n",
      "\u001b[31mImportError\u001b[39m: cannot import name 'VideoProcessor' from 'langchain_memvid' (/home/dawid/github/sarumaj/langchain_memvid/src/langchain_memvid/__init__.py)"
     ]
    }
   ],
   "source": [
    "from IPython.display import clear_output\n",
    "\n",
    "%pip install langchain-huggingface sentence-transformers ipywidgets\n",
    "%pip install -e ..[all]\n",
    "clear_output()\n",
    "\n",
    "from langchain_huggingface import HuggingFaceEmbeddings\n",
    "from pathlib import Path\n",
    "from typing import Set\n",
    "from shutil import rmtree\n",
    "\n",
    "class GarbageCollector:\n",
    "    def __init__(self):\n",
    "        self.paths_to_cleanup: Set[Path] = set()\n",
    "\n",
    "    def add(self, path: Path):\n",
    "        self.paths_to_cleanup.add(path)\n",
    "\n",
    "    def cleanup(self):\n",
    "        for path in self.paths_to_cleanup:\n",
    "            if path.is_file():\n",
    "                path.unlink()\n",
    "            else:\n",
    "                rmtree(path)\n",
    "\n",
    "gc = GarbageCollector()\n",
    "\n",
    "from langchain_memvid import IndexManager, IndexConfig\n",
    "from langchain_memvid import VideoProcessor\n",
    "from langchain_memvid import VideoConfig, QRCodeConfig\n",
    "from langchain_memvid import Encoder\n",
    "from langchain_memvid import VectorStoreConfig\n",
    "from langchain_memvid import Retriever"
   ]
  },
  {
   "cell_type": "code",
   "execution_count": 2,
   "metadata": {},
   "outputs": [],
   "source": [
    "# Create index configuration\n",
    "config = IndexConfig(\n",
    "    index_type=\"faiss\",\n",
    "    metric=\"cosine\",\n",
    "    nlist=6  # Number of clusters for IVF index\n",
    ")\n",
    "\n",
    "# Initialize Embeddings\n",
    "embeddings = HuggingFaceEmbeddings()\n",
    "\n",
    "# Create index manager\n",
    "index_manager = IndexManager(config=config, embeddings=embeddings)\n",
    "\n",
    "# Example text chunks\n",
    "texts = [\n",
    "    \"The quick brown fox jumps over the lazy dog\",\n",
    "    \"A fast orange fox leaps across a sleepy canine\",\n",
    "    \"The weather is beautiful today\",\n",
    "    \"It's raining cats and dogs outside\",\n",
    "    \"Python is a popular programming language\",\n",
    "    \"JavaScript is widely used for web development\"\n",
    "]\n",
    "\n",
    "# Example metadata for each text\n",
    "metadata = [\n",
    "    {\"id\": 0, \"source\": \"example1.txt\", \"category\": \"animals\"},\n",
    "    {\"id\": 1, \"source\": \"example1.txt\", \"category\": \"animals\"},\n",
    "    {\"id\": 2, \"source\": \"example2.txt\", \"category\": \"weather\"},\n",
    "    {\"id\": 3, \"source\": \"example2.txt\", \"category\": \"weather\"},\n",
    "    {\"id\": 4, \"source\": \"example3.txt\", \"category\": \"programming\"},\n",
    "    {\"id\": 5, \"source\": \"example3.txt\", \"category\": \"programming\"}\n",
    "]\n",
    "\n",
    "# Add texts with metadata\n",
    "# The index will be created automatically with the correct dimension\n",
    "# and trained if using an IVF index\n",
    "index_manager.add_texts(texts, metadata)"
   ]
  },
  {
   "cell_type": "code",
   "execution_count": null,
   "metadata": {},
   "outputs": [
    {
     "name": "stdout",
     "output_type": "stream",
     "text": [
      "\n",
      "Searching the index:\n",
      "--------------------------------------------------\n",
      "\n",
      "Query: Tell me about foxes\n",
      "Results:\n",
      "- Text: The quick brown fox jumps over the lazy dog\n",
      "  Source: example1.txt\n",
      "  Category: animals\n",
      "  Similarity: 0.5380\n",
      "\n",
      "Query: What's the weather like?\n",
      "Results:\n",
      "- Text: The weather is beautiful today\n",
      "  Source: example2.txt\n",
      "  Category: weather\n",
      "  Similarity: 0.4703\n",
      "\n",
      "Query: What programming languages are mentioned?\n",
      "Results:\n",
      "- Text: Python is a popular programming language\n",
      "  Source: example3.txt\n",
      "  Category: programming\n",
      "  Similarity: 0.5955\n"
     ]
    }
   ],
   "source": [
    "# Example searches\n",
    "queries = [\n",
    "    \"Tell me about foxes\",\n",
    "    \"What's the weather like?\",\n",
    "    \"What programming languages are mentioned?\"\n",
    "]\n",
    "\n",
    "print(\"\\nSearching the index:\")\n",
    "print(\"-\" * 50)\n",
    "\n",
    "for query in queries:\n",
    "    print(f\"\\nQuery: {query}\")\n",
    "    results = index_manager.search_text(query, k=1)\n",
    "\n",
    "    print(\"Results:\")\n",
    "    for result in results:\n",
    "        print(f\"- Text: {result.text}\")\n",
    "        print(f\"  Source: {result.source}\")\n",
    "        print(f\"  Category: {result.category}\")\n",
    "        print(f\"  Similarity: {result.similarity:.4f}\")"
   ]
  },
  {
   "cell_type": "code",
   "execution_count": null,
   "metadata": {},
   "outputs": [
    {
     "data": {
      "text/plain": [
       "['The quick brown fox jumps over the lazy dog',\n",
       " 'A fast orange fox leaps across a sleepy canine',\n",
       " 'The weather is beautiful today',\n",
       " \"It's raining cats and dogs outside\",\n",
       " 'Python is a popular programming language']"
      ]
     },
     "execution_count": 5,
     "metadata": {},
     "output_type": "execute_result"
    }
   ],
   "source": [
    "video_config = VideoConfig(\n",
    "    fps=30,\n",
    "    resolution=(1920, 1080),\n",
    "    codec=\"mp4v\",\n",
    ")\n",
    "\n",
    "qrcode_config = QRCodeConfig(\n",
    "    error_correction=\"H\",\n",
    "    box_size=10,\n",
    "    border=4\n",
    ")\n",
    "\n",
    "video_processor = VideoProcessor(\n",
    "    video_config=video_config,\n",
    "    qrcode_config=qrcode_config\n",
    ")\n",
    "\n",
    "# Create a test video\n",
    "data = [\n",
    "    \"The quick brown fox jumps over the lazy dog\",\n",
    "    \"A fast orange fox leaps across a sleepy canine\",\n",
    "    \"The weather is beautiful today\",\n",
    "    \"It's raining cats and dogs outside\",\n",
    "    \"Python is a popular programming language\",\n",
    "    \"JavaScript is widely used for web development\"\n",
    "]\n",
    "images = [video_processor.create_qr_code(d) for d in data]\n",
    "output_path = Path(\"test_video.mp4\")\n",
    "\n",
    "# Encode the image into a video\n",
    "video_processor.encode_video(\n",
    "    frames=images,\n",
    "    output_path=output_path\n",
    ")\n",
    "\n",
    "frames = video_processor.decode_video(Path(\"test_video.mp4\"))\n",
    "\n",
    "decoded_data = []\n",
    "for frame in frames:\n",
    "    decoded_data.extend(video_processor.extract_qr_codes(frame))\n",
    "\n",
    "gc.add(output_path)\n",
    "decoded_data"
   ]
  },
  {
   "cell_type": "code",
   "execution_count": 7,
   "metadata": {},
   "outputs": [
    {
     "data": {
      "text/plain": [
       "BuildStats(total_chunks=6, video_size_mb=1.0306396484375, encoding_time=0.19210100173950195, index_path=PosixPath('test_index.d'), video_path=PosixPath('test_video.mp4'))"
      ]
     },
     "execution_count": 7,
     "metadata": {},
     "output_type": "execute_result"
    }
   ],
   "source": [
    "cfg = VectorStoreConfig(\n",
    "    video=video_config,\n",
    "    qrcode=qrcode_config\n",
    ")\n",
    "\n",
    "encoder = Encoder(config=cfg, index_manager=index_manager)\n",
    "encoder.add_chunks(texts, metadata)\n",
    "\n",
    "stats = encoder.build_video(Path(\"test_video.mp4\"), Path(\"test_index.d\"))\n",
    "\n",
    "gc.add(stats.video_path)\n",
    "gc.add(stats.index_path)\n",
    "stats"
   ]
  },
  {
   "cell_type": "code",
   "execution_count": 8,
   "metadata": {},
   "outputs": [
    {
     "name": "stdout",
     "output_type": "stream",
     "text": [
      "\n",
      "Retrieving documents:\n",
      "--------------------------------------------------\n",
      "\n",
      "Query: Tell me about foxes\n",
      "Results:\n",
      "- Text: The quick brown fox jumps over the lazy dog\n",
      "  Metadata: {'source': 'example1.txt', 'category': 'animals', 'similarity': 0.5380151271820068, 'id': 0, 'text': 'The quick brown fox jumps over the lazy dog'}\n",
      "- Text: A fast orange fox leaps across a sleepy canine\n",
      "  Metadata: {'source': 'example1.txt', 'category': 'animals', 'similarity': 0.5364233255386353, 'id': 1, 'text': 'A fast orange fox leaps across a sleepy canine'}\n",
      "\n",
      "Query: What's the weather like?\n",
      "Results:\n",
      "- Text: The weather is beautiful today\n",
      "  Metadata: {'source': 'example2.txt', 'category': 'weather', 'similarity': 0.47028934955596924, 'id': 2, 'text': 'The weather is beautiful today'}\n",
      "- Text: It's raining cats and dogs outside\n",
      "  Metadata: {'source': 'example2.txt', 'category': 'weather', 'similarity': 0.27837008237838745, 'id': 3, 'text': \"It's raining cats and dogs outside\"}\n",
      "\n",
      "Query: What programming languages are mentioned?\n",
      "Results:\n",
      "- Text: Python is a popular programming language\n",
      "  Metadata: {'source': 'example3.txt', 'category': 'programming', 'similarity': 0.5954955816268921, 'id': 4, 'text': 'Python is a popular programming language'}\n",
      "- Text: JavaScript is widely used for web development\n",
      "  Metadata: {'source': 'example3.txt', 'category': 'programming', 'similarity': 0.42399585247039795, 'id': 5, 'text': 'JavaScript is widely used for web development'}\n"
     ]
    }
   ],
   "source": [
    "retriever = Retriever(\n",
    "    video_file=\"test_video.mp4\",\n",
    "    index_file=\"test_index.d\",\n",
    "    config=cfg,\n",
    "    index_manager=index_manager,\n",
    "    k=2,\n",
    ")\n",
    "\n",
    "# Example searches\n",
    "queries = [\n",
    "    \"Tell me about foxes\",\n",
    "    \"What's the weather like?\",\n",
    "    \"What programming languages are mentioned?\"\n",
    "]\n",
    "\n",
    "print(\"\\nRetrieving documents:\")\n",
    "print(\"-\" * 50)\n",
    "\n",
    "for query in queries:\n",
    "    print(f\"\\nQuery: {query}\")\n",
    "    result = retriever.retrieve(query)\n",
    "\n",
    "    print(\"Results:\")\n",
    "    for doc in result:\n",
    "        print(f\"- Text: {doc.page_content}\")\n",
    "        print(f\"  Metadata: {doc.metadata}\")"
   ]
  },
  {
   "cell_type": "code",
   "execution_count": 9,
   "metadata": {},
   "outputs": [],
   "source": [
    "gc.cleanup()"
   ]
  }
 ],
 "metadata": {
  "kernelspec": {
   "display_name": ".venv",
   "language": "python",
   "name": "python3"
  },
  "language_info": {
   "codemirror_mode": {
    "name": "ipython",
    "version": 3
   },
   "file_extension": ".py",
   "mimetype": "text/x-python",
   "name": "python",
   "nbconvert_exporter": "python",
   "pygments_lexer": "ipython3",
   "version": "3.12.3"
  }
 },
 "nbformat": 4,
 "nbformat_minor": 2
}
