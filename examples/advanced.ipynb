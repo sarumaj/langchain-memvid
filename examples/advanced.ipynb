{
 "cells": [
  {
   "cell_type": "markdown",
   "metadata": {},
   "source": [
    "# LangChain MemVid Advanced Usage Guide\n",
    "\n",
    "This notebook demonstrates the advanced features and components of the LangChain MemVid library, showing how to work with individual components for more fine-grained control."
   ]
  },
  {
   "cell_type": "code",
   "execution_count": 1,
   "metadata": {},
   "outputs": [
    {
     "data": {
      "text/html": [
       "<b style='color: green'>Successfully loaded langchain_memvid extension.</b>"
      ],
      "text/plain": [
       "<IPython.core.display.HTML object>"
      ]
     },
     "metadata": {},
     "output_type": "display_data"
    }
   ],
   "source": [
    "%pip install -e ..[all]\n",
    "%reset -f\n",
    "%load_ext langchain_memvid"
   ]
  },
  {
   "cell_type": "markdown",
   "metadata": {},
   "source": [
    "## Setup and Component Imports\n",
    "\n",
    "We'll import the core components that allow us to work with the system at a lower level:\n",
    "- `Encoder` for converting text to video\n",
    "- `IndexConfig` and `IndexManager` for managing the vector index\n",
    "- `QRCodeConfig` and `VideoConfig` for customizing the storage format\n",
    "- `VideoProcessor` for direct video manipulation\n",
    "- `Retriever` for searching stored data"
   ]
  },
  {
   "cell_type": "code",
   "execution_count": 2,
   "metadata": {},
   "outputs": [
    {
     "data": {
      "text/html": [
       "<b style='color: green'>Installed [langchain-huggingface, sentence-transformers]</b>"
      ],
      "text/plain": [
       "<IPython.core.display.HTML object>"
      ]
     },
     "metadata": {},
     "output_type": "display_data"
    }
   ],
   "source": [
    "%pip_install langchain-huggingface sentence-transformers\n",
    "\n",
    "from langchain_huggingface import HuggingFaceEmbeddings\n",
    "from pathlib import Path\n",
    "\n",
    "from langchain_memvid import (\n",
    "    Encoder,\n",
    "    IndexConfig,\n",
    "    IndexManager,\n",
    "    QRCodeConfig,\n",
    "    VectorStoreConfig,\n",
    "    VideoConfig,\n",
    "    Retriever\n",
    ")\n",
    "from langchain_memvid.video import VideoProcessor"
   ]
  },
  {
   "cell_type": "markdown",
   "metadata": {},
   "source": [
    "## Setting Up the Index\n",
    "\n",
    "First, we'll create and configure the vector index:\n",
    "1. Create an index configuration with FAISS backend\n",
    "2. Initialize the embedding model\n",
    "3. Set up the index manager\n",
    "4. Add sample texts with metadata to the index"
   ]
  },
  {
   "cell_type": "code",
   "execution_count": 3,
   "metadata": {},
   "outputs": [
    {
     "name": "stderr",
     "output_type": "stream",
     "text": [
      "Embedding texts: 100%|██████████| 1/1 [00:00<00:00, 81.66it/s]\n",
      "Deduplicating texts: 100%|██████████| 6/6 [00:00<00:00, 93206.76it/s]\n",
      "Adding vectors to index: 100%|██████████| 1/1 [00:00<00:00, 7653.84it/s]\n"
     ]
    }
   ],
   "source": [
    "# Create index configuration\n",
    "config = IndexConfig(\n",
    "    index_type=\"faiss\",\n",
    "    metric=\"cosine\",\n",
    "    nlist=6  # Number of clusters for IVF index\n",
    ")\n",
    "\n",
    "# Initialize Embeddings\n",
    "embeddings = HuggingFaceEmbeddings()\n",
    "\n",
    "# Create index manager\n",
    "index_manager = IndexManager(config=config, embeddings=embeddings)\n",
    "\n",
    "# Example text chunks\n",
    "texts = [\n",
    "    \"The quick brown fox jumps over the lazy dog\",\n",
    "    \"A fast orange fox leaps across a sleepy canine\",\n",
    "    \"The weather is beautiful today\",\n",
    "    \"It's raining cats and dogs outside\",\n",
    "    \"Python is a popular programming language\",\n",
    "    \"JavaScript is widely used for web development\"\n",
    "]\n",
    "\n",
    "# Example metadata for each text\n",
    "metadata = [\n",
    "    {\"id\": 0, \"source\": \"example1.txt\", \"category\": \"animals\"},\n",
    "    {\"id\": 1, \"source\": \"example1.txt\", \"category\": \"animals\"},\n",
    "    {\"id\": 2, \"source\": \"example2.txt\", \"category\": \"weather\"},\n",
    "    {\"id\": 3, \"source\": \"example2.txt\", \"category\": \"weather\"},\n",
    "    {\"id\": 4, \"source\": \"example3.txt\", \"category\": \"programming\"},\n",
    "    {\"id\": 5, \"source\": \"example3.txt\", \"category\": \"programming\"}\n",
    "]\n",
    "\n",
    "# Add texts with metadata\n",
    "# The index will be created automatically with the correct dimension\n",
    "# and trained if using an IVF index\n",
    "index_manager.add_texts(texts, metadata)"
   ]
  },
  {
   "cell_type": "markdown",
   "metadata": {},
   "source": [
    "## Testing Initial Search Functionality\n",
    "\n",
    "Let's verify our index is working by performing some test searches. This demonstrates the basic search functionality before we encode the data into video format."
   ]
  },
  {
   "cell_type": "code",
   "execution_count": 4,
   "metadata": {},
   "outputs": [
    {
     "data": {
      "text/html": [
       "<table><tr><th style=\"text-align: left\"><b>Query</b></th><th style=\"text-align: left\"><b>Text</b></th><th style=\"text-align: left\"><b>Source</b></th><th style=\"text-align: left\"><b>Category</b></th><th style=\"text-align: left\"><b>Similarity</b></th></tr><tr><td style='text-align: left'>Tell me about foxes</td><td style='text-align: left'>The quick brown fox jumps over the lazy dog</td><td style='text-align: left'>example1.txt</td><td style='text-align: left'>animals</td><td style='text-align: left'>0.5380</td></tr><tr><td style='text-align: left'>Tell me about foxes</td><td style='text-align: left'>A fast orange fox leaps across a sleepy canine</td><td style='text-align: left'>example1.txt</td><td style='text-align: left'>animals</td><td style='text-align: left'>0.5364</td></tr><tr><td style='text-align: left'>What's the weather like?</td><td style='text-align: left'>The weather is beautiful today</td><td style='text-align: left'>example2.txt</td><td style='text-align: left'>weather</td><td style='text-align: left'>0.4703</td></tr><tr><td style='text-align: left'>What's the weather like?</td><td style='text-align: left'>It's raining cats and dogs outside</td><td style='text-align: left'>example2.txt</td><td style='text-align: left'>weather</td><td style='text-align: left'>0.2784</td></tr><tr><td style='text-align: left'>What programming languages are mentioned?</td><td style='text-align: left'>Python is a popular programming language</td><td style='text-align: left'>example3.txt</td><td style='text-align: left'>programming</td><td style='text-align: left'>0.5955</td></tr><tr><td style='text-align: left'>What programming languages are mentioned?</td><td style='text-align: left'>JavaScript is widely used for web development</td><td style='text-align: left'>example3.txt</td><td style='text-align: left'>programming</td><td style='text-align: left'>0.4240</td></tr></table>"
      ],
      "text/plain": [
       "<IPython.core.display.HTML object>"
      ]
     },
     "metadata": {},
     "output_type": "display_data"
    }
   ],
   "source": [
    "# Example searches\n",
    "queries = [\n",
    "    \"Tell me about foxes\",\n",
    "    \"What's the weather like?\",\n",
    "    \"What programming languages are mentioned?\"\n",
    "]\n",
    "\n",
    "results = [\n",
    "    {\n",
    "        \"query\": query,\n",
    "        \"text\": result.text,\n",
    "        \"source\": result.source,\n",
    "        \"category\": result.category,\n",
    "        \"similarity\": f\"{result.similarity:.4f}\"\n",
    "    }\n",
    "    for query in queries\n",
    "    for result in index_manager.search_text(query, k=2)\n",
    "]\n",
    "\n",
    "%display_as_table results"
   ]
  },
  {
   "cell_type": "markdown",
   "metadata": {},
   "source": [
    "## Video Processing Setup\n",
    "\n",
    "Now we'll set up the video processing components:\n",
    "1. Configure video parameters (resolution, FPS, codec)\n",
    "2. Configure QR code generation parameters\n",
    "3. Create a test video with our data\n",
    "4. Verify we can decode the data back from the video"
   ]
  },
  {
   "cell_type": "code",
   "execution_count": 5,
   "metadata": {},
   "outputs": [
    {
     "name": "stderr",
     "output_type": "stream",
     "text": [
      "Preparing frames: 100%|██████████| 6/6 [00:00<00:00, 101.80it/s]\n",
      "Writing video: 100%|██████████| 6/6 [00:00<00:00, 78.18it/s]\n",
      "Decoding video: 100%|██████████| 6/6 [00:00<00:00,  7.09it/s]\n"
     ]
    },
    {
     "data": {
      "text/html": [
       "<ul><li>The quick brown fox jumps over the lazy dog</li><li>A fast orange fox leaps across a sleepy canine</li><li>The weather is beautiful today</li><li>It's raining cats and dogs outside</li><li>Python is a popular programming language</li><li>JavaScript is widely used for web development</li></ul>"
      ],
      "text/plain": [
       "<IPython.core.display.HTML object>"
      ]
     },
     "metadata": {},
     "output_type": "display_data"
    }
   ],
   "source": [
    "video_config = VideoConfig(\n",
    "    fps=30,\n",
    "    resolution=(1920, 1080),\n",
    "    codec=\"mp4v\",\n",
    ")\n",
    "\n",
    "qrcode_config = QRCodeConfig(\n",
    "    error_correction=\"H\",\n",
    "    box_size=10,\n",
    "    border=4\n",
    ")\n",
    "\n",
    "video_processor = VideoProcessor(\n",
    "    video_config=video_config,\n",
    "    qrcode_config=qrcode_config\n",
    ")\n",
    "\n",
    "# Create a test video\n",
    "data = [\n",
    "    \"The quick brown fox jumps over the lazy dog\",\n",
    "    \"A fast orange fox leaps across a sleepy canine\",\n",
    "    \"The weather is beautiful today\",\n",
    "    \"It's raining cats and dogs outside\",\n",
    "    \"Python is a popular programming language\",\n",
    "    \"JavaScript is widely used for web development\"\n",
    "]\n",
    "images = [video_processor.create_qr_code(d) for d in data]\n",
    "output_path = Path(\"test_video.mp4\")\n",
    "\n",
    "# Encode the image into a video\n",
    "video_processor.encode_video(\n",
    "    frames=images,\n",
    "    output_path=output_path\n",
    ")\n",
    "\n",
    "frames = video_processor.decode_video(Path(\"test_video.mp4\"))\n",
    "\n",
    "decoded_data = []\n",
    "for frame in frames:\n",
    "    decoded_data.extend(video_processor.extract_qr_codes(frame))\n",
    "\n",
    "%display_as_bullet_list decoded_data"
   ]
  },
  {
   "cell_type": "markdown",
   "metadata": {},
   "source": [
    "## Building the Complete System\n",
    "\n",
    "Here we combine all components to create a complete vector store system:\n",
    "1. Configure the vector store settings\n",
    "2. Create an encoder with our configurations\n",
    "3. Build the video file and index\n",
    "4. Display statistics about the created storage"
   ]
  },
  {
   "cell_type": "code",
   "execution_count": 6,
   "metadata": {},
   "outputs": [
    {
     "name": "stderr",
     "output_type": "stream",
     "text": [
      "Embedding texts: 100%|██████████| 1/1 [00:00<00:00, 86.33it/s]\n",
      "Deduplicating texts: 100%|██████████| 6/6 [00:00<00:00, 155344.59it/s]\n",
      "Preparing frames: 100%|██████████| 6/6 [00:00<00:00, 142.64it/s]\n",
      "Writing video: 100%|██████████| 6/6 [00:00<00:00, 111.82it/s]\n"
     ]
    },
    {
     "data": {
      "text/html": [
       "<table><tr></tr><tr><td style='text-align: left'>Total Chunks</td><td style='text-align: left'>6</td></tr><tr><td style='text-align: left'>Video Size Mb</td><td style='text-align: left'>1.240159034729004</td></tr><tr><td style='text-align: left'>Encoding Time</td><td style='text-align: left'>0.6772446632385254</td></tr><tr><td style='text-align: left'>Index Path</td><td style='text-align: left'>test_index.d</td></tr><tr><td style='text-align: left'>Video Path</td><td style='text-align: left'>test_video.mp4</td></tr></table>"
      ],
      "text/plain": [
       "<IPython.core.display.HTML object>"
      ]
     },
     "metadata": {},
     "output_type": "display_data"
    }
   ],
   "source": [
    "cfg = VectorStoreConfig(\n",
    "    video=video_config,\n",
    "    qrcode=qrcode_config\n",
    ")\n",
    "\n",
    "encoder = Encoder(config=cfg, index_manager=index_manager)\n",
    "encoder.add_chunks(texts, metadata)\n",
    "\n",
    "video_file = Path(\"test_video.mp4\")\n",
    "index_dir = Path(\"test_index.d\")\n",
    "\n",
    "stats = encoder.build_video(video_file, index_dir)\n",
    "\n",
    "%display_as_table stats"
   ]
  },
  {
   "cell_type": "markdown",
   "metadata": {},
   "source": [
    "## Testing the Complete System\n",
    "\n",
    "Finally, we'll test the complete system by:\n",
    "1. Creating a retriever that can access both the video and index\n",
    "2. Performing similarity searches\n",
    "3. Verifying that results match our original queries"
   ]
  },
  {
   "cell_type": "code",
   "execution_count": 7,
   "metadata": {},
   "outputs": [
    {
     "data": {
      "text/html": [
       "<table><tr><th style=\"text-align: left\"><b>Query</b></th><th style=\"text-align: left\"><b>Text</b></th><th style=\"text-align: left\"><b>Source</b></th><th style=\"text-align: left\"><b>Category</b></th><th style=\"text-align: left\"><b>Similarity</b></th><th style=\"text-align: left\"><b>Id</b></th></tr><tr><td style='text-align: left'>Tell me about foxes</td><td style='text-align: left'>The quick brown fox jumps over the lazy dog</td><td style='text-align: left'>example1.txt</td><td style='text-align: left'>animals</td><td style='text-align: left'>0.5380151271820068</td><td style='text-align: left'>0</td></tr><tr><td style='text-align: left'>Tell me about foxes</td><td style='text-align: left'>A fast orange fox leaps across a sleepy canine</td><td style='text-align: left'>example1.txt</td><td style='text-align: left'>animals</td><td style='text-align: left'>0.5364233255386353</td><td style='text-align: left'>1</td></tr><tr><td style='text-align: left'>What's the weather like?</td><td style='text-align: left'>The weather is beautiful today</td><td style='text-align: left'>example2.txt</td><td style='text-align: left'>weather</td><td style='text-align: left'>0.47028934955596924</td><td style='text-align: left'>2</td></tr><tr><td style='text-align: left'>What's the weather like?</td><td style='text-align: left'>It's raining cats and dogs outside</td><td style='text-align: left'>example2.txt</td><td style='text-align: left'>weather</td><td style='text-align: left'>0.27837008237838745</td><td style='text-align: left'>3</td></tr><tr><td style='text-align: left'>What programming languages are mentioned?</td><td style='text-align: left'>Python is a popular programming language</td><td style='text-align: left'>example3.txt</td><td style='text-align: left'>programming</td><td style='text-align: left'>0.5954955816268921</td><td style='text-align: left'>4</td></tr><tr><td style='text-align: left'>What programming languages are mentioned?</td><td style='text-align: left'>JavaScript is widely used for web development</td><td style='text-align: left'>example3.txt</td><td style='text-align: left'>programming</td><td style='text-align: left'>0.42399585247039795</td><td style='text-align: left'>5</td></tr></table>"
      ],
      "text/plain": [
       "<IPython.core.display.HTML object>"
      ]
     },
     "metadata": {},
     "output_type": "display_data"
    }
   ],
   "source": [
    "retriever = Retriever(\n",
    "    video_file=video_file,\n",
    "    index_dir=index_dir,\n",
    "    config=cfg,\n",
    "    index_manager=index_manager,\n",
    "    k=2,\n",
    ")\n",
    "\n",
    "# Example searches\n",
    "queries = [\n",
    "    \"Tell me about foxes\",\n",
    "    \"What's the weather like?\",\n",
    "    \"What programming languages are mentioned?\"\n",
    "]\n",
    "\n",
    "results = [\n",
    "    {\n",
    "        \"query\": query,\n",
    "        \"text\": doc.page_content,\n",
    "        **{k: v for k, v in doc.metadata.items() if k != \"text\"}\n",
    "    }\n",
    "    for query in queries\n",
    "    for doc in retriever.retrieve(query)\n",
    "]\n",
    "\n",
    "%display_as_table results"
   ]
  },
  {
   "cell_type": "markdown",
   "metadata": {},
   "source": [
    "## Cleanup\n",
    "\n",
    "Clean up temporary files created during the demonstration."
   ]
  },
  {
   "cell_type": "code",
   "execution_count": 8,
   "metadata": {},
   "outputs": [
    {
     "data": {
      "text/html": [
       "<b style='color: red'>Garbage collecting: [output_path, video_file, index_dir]</b>"
      ],
      "text/plain": [
       "<IPython.core.display.HTML object>"
      ]
     },
     "metadata": {},
     "output_type": "display_data"
    },
    {
     "data": {
      "text/html": [
       "<b style='color: red'>Removing test_video.mp4</b>"
      ],
      "text/plain": [
       "<IPython.core.display.HTML object>"
      ]
     },
     "metadata": {},
     "output_type": "display_data"
    },
    {
     "data": {
      "text/html": [
       "<b style='color: red'>Removing test_index.d</b>"
      ],
      "text/plain": [
       "<IPython.core.display.HTML object>"
      ]
     },
     "metadata": {},
     "output_type": "display_data"
    }
   ],
   "source": [
    "%cleanup"
   ]
  }
 ],
 "metadata": {
  "kernelspec": {
   "display_name": ".venv",
   "language": "python",
   "name": "python3"
  },
  "language_info": {
   "codemirror_mode": {
    "name": "ipython",
    "version": 3
   },
   "file_extension": ".py",
   "mimetype": "text/x-python",
   "name": "python",
   "nbconvert_exporter": "python",
   "pygments_lexer": "ipython3",
   "version": "3.12.3"
  }
 },
 "nbformat": 4,
 "nbformat_minor": 2
}
